{
  "nbformat": 4,
  "nbformat_minor": 0,
  "metadata": {
    "colab": {
      "name": "MTN_Upgrade.ipynb",
      "provenance": [],
      "toc_visible": true
    },
    "kernelspec": {
      "name": "python3",
      "display_name": "Python 3"
    },
    "language_info": {
      "name": "python"
    }
  },
  "cells": [
    {
      "cell_type": "markdown",
      "metadata": {
        "id": "yeMzFZQir6wx"
      },
      "source": [
        "#1.1 Importing the libraries to be used"
      ]
    },
    {
      "cell_type": "code",
      "metadata": {
        "id": "SblnT76WokMG"
      },
      "source": [
        "# We will first begin by importing our pandas library so as to help us in \n",
        "# data manipulation and analysis.\n",
        "\n",
        "import pandas as pd\n",
        "\n",
        "# as well as the Numpy library\n",
        "import numpy as np"
      ],
      "execution_count": 1,
      "outputs": []
    },
    {
      "cell_type": "markdown",
      "metadata": {
        "id": "W-F9xmsur52R"
      },
      "source": [
        "#1.2 Creating dataframes\n"
      ]
    },
    {
      "cell_type": "markdown",
      "metadata": {
        "id": "G8as0-NM5kqG"
      },
      "source": [
        "To be able to view the data we will create dataframes from csv files using the panda's read_(type) function"
      ]
    },
    {
      "cell_type": "code",
      "metadata": {
        "colab": {
          "base_uri": "https://localhost:8080/",
          "height": 390
        },
        "id": "mM2KnV1bvj6o",
        "outputId": "59d9d97d-a6b1-4cd9-8952-db46937d599e"
      },
      "source": [
        "# Display the description for our the cells geo data set\n",
        "# This will enable us understand our dataset\n",
        "\n",
        "cell_desc = pd.read_excel('/content/cells_geo_description.xlsx')\n",
        "cell_desc"
      ],
      "execution_count": 2,
      "outputs": [
        {
          "output_type": "execute_result",
          "data": {
            "text/html": [
              "<div>\n",
              "<style scoped>\n",
              "    .dataframe tbody tr th:only-of-type {\n",
              "        vertical-align: middle;\n",
              "    }\n",
              "\n",
              "    .dataframe tbody tr th {\n",
              "        vertical-align: top;\n",
              "    }\n",
              "\n",
              "    .dataframe thead th {\n",
              "        text-align: right;\n",
              "    }\n",
              "</style>\n",
              "<table border=\"1\" class=\"dataframe\">\n",
              "  <thead>\n",
              "    <tr style=\"text-align: right;\">\n",
              "      <th></th>\n",
              "      <th>Column name</th>\n",
              "      <th>Description</th>\n",
              "      <th>Format</th>\n",
              "    </tr>\n",
              "  </thead>\n",
              "  <tbody>\n",
              "    <tr>\n",
              "      <th>0</th>\n",
              "      <td>VILLES</td>\n",
              "      <td>City</td>\n",
              "      <td>String</td>\n",
              "    </tr>\n",
              "    <tr>\n",
              "      <th>1</th>\n",
              "      <td>STATUS</td>\n",
              "      <td>In Service or not</td>\n",
              "      <td>String</td>\n",
              "    </tr>\n",
              "    <tr>\n",
              "      <th>2</th>\n",
              "      <td>LOCALISATION</td>\n",
              "      <td>in ABIDJAN or not</td>\n",
              "      <td>String</td>\n",
              "    </tr>\n",
              "    <tr>\n",
              "      <th>3</th>\n",
              "      <td>DECOUPZONE</td>\n",
              "      <td>Geographical Zone</td>\n",
              "      <td>String</td>\n",
              "    </tr>\n",
              "    <tr>\n",
              "      <th>4</th>\n",
              "      <td>ZONENAME</td>\n",
              "      <td>Name of Zone</td>\n",
              "      <td>String</td>\n",
              "    </tr>\n",
              "    <tr>\n",
              "      <th>5</th>\n",
              "      <td>LONGITUDE</td>\n",
              "      <td>Longitude</td>\n",
              "      <td>Float</td>\n",
              "    </tr>\n",
              "    <tr>\n",
              "      <th>6</th>\n",
              "      <td>LATITUDE</td>\n",
              "      <td>Latitude</td>\n",
              "      <td>Float</td>\n",
              "    </tr>\n",
              "    <tr>\n",
              "      <th>7</th>\n",
              "      <td>REGION</td>\n",
              "      <td>Region</td>\n",
              "      <td>String</td>\n",
              "    </tr>\n",
              "    <tr>\n",
              "      <th>8</th>\n",
              "      <td>AREA</td>\n",
              "      <td>Area</td>\n",
              "      <td>String</td>\n",
              "    </tr>\n",
              "    <tr>\n",
              "      <th>9</th>\n",
              "      <td>CELL_ID</td>\n",
              "      <td>ID of the cell</td>\n",
              "      <td>String</td>\n",
              "    </tr>\n",
              "    <tr>\n",
              "      <th>10</th>\n",
              "      <td>SITE_CODE</td>\n",
              "      <td>Site (there are several cells per site, severa...</td>\n",
              "      <td>String</td>\n",
              "    </tr>\n",
              "  </tbody>\n",
              "</table>\n",
              "</div>"
            ],
            "text/plain": [
              "     Column name                                        Description  Format\n",
              "0         VILLES                                               City  String\n",
              "1         STATUS                                  In Service or not  String\n",
              "2   LOCALISATION                                  in ABIDJAN or not  String\n",
              "3     DECOUPZONE                                  Geographical Zone  String\n",
              "4       ZONENAME                                       Name of Zone  String\n",
              "5      LONGITUDE                                          Longitude   Float\n",
              "6       LATITUDE                                           Latitude   Float\n",
              "7         REGION                                             Region  String\n",
              "8           AREA                                               Area  String\n",
              "9        CELL_ID                                     ID of the cell  String\n",
              "10     SITE_CODE  Site (there are several cells per site, severa...  String"
            ]
          },
          "metadata": {
            "tags": []
          },
          "execution_count": 2
        }
      ]
    },
    {
      "cell_type": "code",
      "metadata": {
        "colab": {
          "base_uri": "https://localhost:8080/",
          "height": 289
        },
        "id": "rfUViSN2sgvV",
        "outputId": "ed55f2ea-fd44-4ff7-97b0-3468ad36644f"
      },
      "source": [
        "# Let's now create a dataframe for the cells geo from the datasets provided\n",
        "\n",
        "cells_df = pd.read_csv('/content/cells_geo.csv', delimiter= ';', index_col = 0)\n",
        "cells_df.head(5)"
      ],
      "execution_count": 3,
      "outputs": [
        {
          "output_type": "execute_result",
          "data": {
            "text/html": [
              "<div>\n",
              "<style scoped>\n",
              "    .dataframe tbody tr th:only-of-type {\n",
              "        vertical-align: middle;\n",
              "    }\n",
              "\n",
              "    .dataframe tbody tr th {\n",
              "        vertical-align: top;\n",
              "    }\n",
              "\n",
              "    .dataframe thead th {\n",
              "        text-align: right;\n",
              "    }\n",
              "</style>\n",
              "<table border=\"1\" class=\"dataframe\">\n",
              "  <thead>\n",
              "    <tr style=\"text-align: right;\">\n",
              "      <th></th>\n",
              "      <th>VILLES</th>\n",
              "      <th>STATUS</th>\n",
              "      <th>LOCALISATION</th>\n",
              "      <th>DECOUPZONE</th>\n",
              "      <th>ZONENAME</th>\n",
              "      <th>LONGITUDE</th>\n",
              "      <th>LATITUDE</th>\n",
              "      <th>REGION</th>\n",
              "      <th>AREA</th>\n",
              "      <th>CELL_ID</th>\n",
              "      <th>SITE_CODE</th>\n",
              "    </tr>\n",
              "  </thead>\n",
              "  <tbody>\n",
              "    <tr>\n",
              "      <th>0</th>\n",
              "      <td>ADJAME</td>\n",
              "      <td>In Service</td>\n",
              "      <td>ABIDJAN</td>\n",
              "      <td>\"Abidjan_EST</td>\n",
              "      <td>AGBANNEW</td>\n",
              "      <td>-4.000667</td>\n",
              "      <td>5.368194</td>\n",
              "      <td>LAGUNE</td>\n",
              "      <td>NaN</td>\n",
              "      <td>fbb2e75af3</td>\n",
              "      <td>0bb492ef17</td>\n",
              "    </tr>\n",
              "    <tr>\n",
              "      <th>1</th>\n",
              "      <td>ADJAME</td>\n",
              "      <td>In Service</td>\n",
              "      <td>ABIDJAN</td>\n",
              "      <td>\"Abidjan_EST</td>\n",
              "      <td>AGBANNEW</td>\n",
              "      <td>-4.000667</td>\n",
              "      <td>5.368194</td>\n",
              "      <td>LAGUNE</td>\n",
              "      <td>NaN</td>\n",
              "      <td>1502501d78</td>\n",
              "      <td>0bb492ef17</td>\n",
              "    </tr>\n",
              "    <tr>\n",
              "      <th>2</th>\n",
              "      <td>ADJAME</td>\n",
              "      <td>In Service</td>\n",
              "      <td>ABIDJAN</td>\n",
              "      <td>\"Abidjan_EST</td>\n",
              "      <td>AGBANNEW</td>\n",
              "      <td>-4.000667</td>\n",
              "      <td>5.368194</td>\n",
              "      <td>LAGUNE</td>\n",
              "      <td>NaN</td>\n",
              "      <td>0c2e182a0c</td>\n",
              "      <td>0bb492ef17</td>\n",
              "    </tr>\n",
              "    <tr>\n",
              "      <th>3</th>\n",
              "      <td>ASSINIE</td>\n",
              "      <td>In Service</td>\n",
              "      <td>INTERIEUR</td>\n",
              "      <td>Grand-EST</td>\n",
              "      <td>ASSINIE\"</td>\n",
              "      <td>-3.488467</td>\n",
              "      <td>5.158761</td>\n",
              "      <td>SUD COMOE</td>\n",
              "      <td>NaN</td>\n",
              "      <td>69bdfc69fd</td>\n",
              "      <td>8a1e6ce31f</td>\n",
              "    </tr>\n",
              "    <tr>\n",
              "      <th>4</th>\n",
              "      <td>ASSINIE</td>\n",
              "      <td>In Service</td>\n",
              "      <td>INTERIEUR</td>\n",
              "      <td>Grand-EST</td>\n",
              "      <td>ASSINIE\"</td>\n",
              "      <td>-3.488467</td>\n",
              "      <td>5.158761</td>\n",
              "      <td>SUD COMOE</td>\n",
              "      <td>NaN</td>\n",
              "      <td>7a1029d2ab</td>\n",
              "      <td>8a1e6ce31f</td>\n",
              "    </tr>\n",
              "  </tbody>\n",
              "</table>\n",
              "</div>"
            ],
            "text/plain": [
              "    VILLES      STATUS LOCALISATION  ... AREA     CELL_ID   SITE_CODE\n",
              "0   ADJAME  In Service      ABIDJAN  ...  NaN  fbb2e75af3  0bb492ef17\n",
              "1   ADJAME  In Service      ABIDJAN  ...  NaN  1502501d78  0bb492ef17\n",
              "2   ADJAME  In Service      ABIDJAN  ...  NaN  0c2e182a0c  0bb492ef17\n",
              "3  ASSINIE  In Service    INTERIEUR  ...  NaN  69bdfc69fd  8a1e6ce31f\n",
              "4  ASSINIE  In Service    INTERIEUR  ...  NaN  7a1029d2ab  8a1e6ce31f\n",
              "\n",
              "[5 rows x 11 columns]"
            ]
          },
          "metadata": {
            "tags": []
          },
          "execution_count": 3
        }
      ]
    },
    {
      "cell_type": "code",
      "metadata": {
        "colab": {
          "base_uri": "https://localhost:8080/",
          "height": 359
        },
        "id": "KM6hlvKewJqk",
        "outputId": "789d8e65-4e36-4c8a-c1cf-ff8036e0940e"
      },
      "source": [
        "# Display the description for telecom dataset\n",
        "# This will enable us understand the dataframe\n",
        "\n",
        "cdr_desc = pd.read_excel('/content/CDR_description.xlsx')\n",
        "cdr_desc"
      ],
      "execution_count": 4,
      "outputs": [
        {
          "output_type": "execute_result",
          "data": {
            "text/html": [
              "<div>\n",
              "<style scoped>\n",
              "    .dataframe tbody tr th:only-of-type {\n",
              "        vertical-align: middle;\n",
              "    }\n",
              "\n",
              "    .dataframe tbody tr th {\n",
              "        vertical-align: top;\n",
              "    }\n",
              "\n",
              "    .dataframe thead th {\n",
              "        text-align: right;\n",
              "    }\n",
              "</style>\n",
              "<table border=\"1\" class=\"dataframe\">\n",
              "  <thead>\n",
              "    <tr style=\"text-align: right;\">\n",
              "      <th></th>\n",
              "      <th>Column name</th>\n",
              "      <th>Description</th>\n",
              "      <th>Format</th>\n",
              "    </tr>\n",
              "  </thead>\n",
              "  <tbody>\n",
              "    <tr>\n",
              "      <th>0</th>\n",
              "      <td>PRODUCT</td>\n",
              "      <td>Voice or SMS</td>\n",
              "      <td>String</td>\n",
              "    </tr>\n",
              "    <tr>\n",
              "      <th>1</th>\n",
              "      <td>VALUE</td>\n",
              "      <td>Billing price</td>\n",
              "      <td>Integer</td>\n",
              "    </tr>\n",
              "    <tr>\n",
              "      <th>2</th>\n",
              "      <td>DATE_TIME</td>\n",
              "      <td>Time in format yyyy-MM-dd hh:mm:ss.0</td>\n",
              "      <td>String</td>\n",
              "    </tr>\n",
              "    <tr>\n",
              "      <th>3</th>\n",
              "      <td>CELL_ON_SITE</td>\n",
              "      <td>Which cell in the site was used (not needed here)</td>\n",
              "      <td>Integer</td>\n",
              "    </tr>\n",
              "    <tr>\n",
              "      <th>4</th>\n",
              "      <td>DW_A_NUMBER_INT</td>\n",
              "      <td>Anonymized phone number of the person for whic...</td>\n",
              "      <td>String</td>\n",
              "    </tr>\n",
              "    <tr>\n",
              "      <th>5</th>\n",
              "      <td>DW_B_NUMBER_INT</td>\n",
              "      <td>Anonymized phone number of the counterparty</td>\n",
              "      <td>String</td>\n",
              "    </tr>\n",
              "    <tr>\n",
              "      <th>6</th>\n",
              "      <td>COUNTRY_A</td>\n",
              "      <td>Country of party A (useless here)</td>\n",
              "      <td>String</td>\n",
              "    </tr>\n",
              "    <tr>\n",
              "      <th>7</th>\n",
              "      <td>COUNTRY_B</td>\n",
              "      <td>Country of party B (useless here)</td>\n",
              "      <td>String</td>\n",
              "    </tr>\n",
              "    <tr>\n",
              "      <th>8</th>\n",
              "      <td>CELL_ID</td>\n",
              "      <td>ID of the cell</td>\n",
              "      <td>String</td>\n",
              "    </tr>\n",
              "    <tr>\n",
              "      <th>9</th>\n",
              "      <td>SITE_ID</td>\n",
              "      <td>ID of the SITE</td>\n",
              "      <td>String</td>\n",
              "    </tr>\n",
              "  </tbody>\n",
              "</table>\n",
              "</div>"
            ],
            "text/plain": [
              "       Column name                                        Description   Format\n",
              "0          PRODUCT                                       Voice or SMS   String\n",
              "1            VALUE                                      Billing price  Integer\n",
              "2        DATE_TIME               Time in format yyyy-MM-dd hh:mm:ss.0   String\n",
              "3     CELL_ON_SITE  Which cell in the site was used (not needed here)  Integer\n",
              "4  DW_A_NUMBER_INT  Anonymized phone number of the person for whic...   String\n",
              "5  DW_B_NUMBER_INT        Anonymized phone number of the counterparty   String\n",
              "6        COUNTRY_A                  Country of party A (useless here)   String\n",
              "7        COUNTRY_B                  Country of party B (useless here)   String\n",
              "8          CELL_ID                                     ID of the cell   String\n",
              "9          SITE_ID                                     ID of the SITE   String"
            ]
          },
          "metadata": {
            "tags": []
          },
          "execution_count": 4
        }
      ]
    },
    {
      "cell_type": "code",
      "metadata": {
        "colab": {
          "base_uri": "https://localhost:8080/",
          "height": 394
        },
        "id": "1NfNt0FA2ELe",
        "outputId": "a085e255-b976-424c-c207-a40cccb7669a"
      },
      "source": [
        "# Creating a data frame using CSV files \n",
        "\n",
        "ds1_df = pd.read_csv('/content/Telcom_dataset_1.csv')\n",
        "ds1_df.head(5)"
      ],
      "execution_count": 5,
      "outputs": [
        {
          "output_type": "execute_result",
          "data": {
            "text/html": [
              "<div>\n",
              "<style scoped>\n",
              "    .dataframe tbody tr th:only-of-type {\n",
              "        vertical-align: middle;\n",
              "    }\n",
              "\n",
              "    .dataframe tbody tr th {\n",
              "        vertical-align: top;\n",
              "    }\n",
              "\n",
              "    .dataframe thead th {\n",
              "        text-align: right;\n",
              "    }\n",
              "</style>\n",
              "<table border=\"1\" class=\"dataframe\">\n",
              "  <thead>\n",
              "    <tr style=\"text-align: right;\">\n",
              "      <th></th>\n",
              "      <th>PRODUTC</th>\n",
              "      <th>VALUE</th>\n",
              "      <th>DATETIME</th>\n",
              "      <th>CELL_ON_SITE</th>\n",
              "      <th>DW_A_NUMBER_INT</th>\n",
              "      <th>DW_B_NUMBER_INT</th>\n",
              "      <th>COUNTRY_A</th>\n",
              "      <th>COUNTRY_B</th>\n",
              "      <th>CELL_ID</th>\n",
              "      <th>SITE_ID</th>\n",
              "    </tr>\n",
              "  </thead>\n",
              "  <tbody>\n",
              "    <tr>\n",
              "      <th>0</th>\n",
              "      <td>Voice</td>\n",
              "      <td>0</td>\n",
              "      <td>2012-05-06 23:04:37.0</td>\n",
              "      <td>1</td>\n",
              "      <td>49fae048b547780</td>\n",
              "      <td>1a49f8b0ded9de6</td>\n",
              "      <td>19e2e</td>\n",
              "      <td>19e2e</td>\n",
              "      <td>/TJNe+Mmtu</td>\n",
              "      <td>/TJNe+Mmtu</td>\n",
              "    </tr>\n",
              "    <tr>\n",
              "      <th>1</th>\n",
              "      <td>sms</td>\n",
              "      <td>0</td>\n",
              "      <td>2012-05-06 23:05:25.0</td>\n",
              "      <td>0</td>\n",
              "      <td>7a54a6eaee19e65</td>\n",
              "      <td>93343ba6e41af95</td>\n",
              "      <td>19e2e</td>\n",
              "      <td>19e2e</td>\n",
              "      <td>/+cKZKIp41</td>\n",
              "      <td>/+cKZKIp41</td>\n",
              "    </tr>\n",
              "    <tr>\n",
              "      <th>2</th>\n",
              "      <td>sms</td>\n",
              "      <td>25</td>\n",
              "      <td>2012-05-06 23:05:41.0</td>\n",
              "      <td>0</td>\n",
              "      <td>6008887b0207d82</td>\n",
              "      <td>7aacc9709ce0a20</td>\n",
              "      <td>19e2e</td>\n",
              "      <td>19e2e</td>\n",
              "      <td>/u0FSD+ahi</td>\n",
              "      <td>/u0FSD+ahi</td>\n",
              "    </tr>\n",
              "    <tr>\n",
              "      <th>3</th>\n",
              "      <td>Voice</td>\n",
              "      <td>56</td>\n",
              "      <td>2012-05-06 23:05:42.0</td>\n",
              "      <td>1</td>\n",
              "      <td>7370032e20f4e96</td>\n",
              "      <td>6af4a60e74c91d3</td>\n",
              "      <td>19e2e</td>\n",
              "      <td>19e2e</td>\n",
              "      <td>+cNeJzsTp3</td>\n",
              "      <td>+cNeJzsTp3</td>\n",
              "    </tr>\n",
              "    <tr>\n",
              "      <th>4</th>\n",
              "      <td>Voice</td>\n",
              "      <td>14</td>\n",
              "      <td>2012-05-06 23:06:29.0</td>\n",
              "      <td>1</td>\n",
              "      <td>966ba4656e38e62</td>\n",
              "      <td>02aa736ee555d5c</td>\n",
              "      <td>19e2e</td>\n",
              "      <td>19e2e</td>\n",
              "      <td>051KhYDCpv</td>\n",
              "      <td>051KhYDCpv</td>\n",
              "    </tr>\n",
              "  </tbody>\n",
              "</table>\n",
              "</div>"
            ],
            "text/plain": [
              "  PRODUTC  VALUE               DATETIME  ... COUNTRY_B     CELL_ID     SITE_ID\n",
              "0   Voice      0  2012-05-06 23:04:37.0  ...     19e2e  /TJNe+Mmtu  /TJNe+Mmtu\n",
              "1     sms      0  2012-05-06 23:05:25.0  ...     19e2e  /+cKZKIp41  /+cKZKIp41\n",
              "2     sms     25  2012-05-06 23:05:41.0  ...     19e2e  /u0FSD+ahi  /u0FSD+ahi\n",
              "3   Voice     56  2012-05-06 23:05:42.0  ...     19e2e  +cNeJzsTp3  +cNeJzsTp3\n",
              "4   Voice     14  2012-05-06 23:06:29.0  ...     19e2e  051KhYDCpv  051KhYDCpv\n",
              "\n",
              "[5 rows x 10 columns]"
            ]
          },
          "metadata": {
            "tags": []
          },
          "execution_count": 5
        }
      ]
    },
    {
      "cell_type": "code",
      "metadata": {
        "colab": {
          "base_uri": "https://localhost:8080/",
          "height": 329
        },
        "id": "s2Rg28do4eGs",
        "outputId": "8259245d-bffe-48da-b667-a9bbd52e535c"
      },
      "source": [
        "# Creating a data frame for our second dataset using CSV files \n",
        "\n",
        "ds2_df = pd.read_csv('/content/Telcom_dataset2.csv')\n",
        "ds2_df.head(4)"
      ],
      "execution_count": 6,
      "outputs": [
        {
          "output_type": "execute_result",
          "data": {
            "text/html": [
              "<div>\n",
              "<style scoped>\n",
              "    .dataframe tbody tr th:only-of-type {\n",
              "        vertical-align: middle;\n",
              "    }\n",
              "\n",
              "    .dataframe tbody tr th {\n",
              "        vertical-align: top;\n",
              "    }\n",
              "\n",
              "    .dataframe thead th {\n",
              "        text-align: right;\n",
              "    }\n",
              "</style>\n",
              "<table border=\"1\" class=\"dataframe\">\n",
              "  <thead>\n",
              "    <tr style=\"text-align: right;\">\n",
              "      <th></th>\n",
              "      <th>PRODUCT</th>\n",
              "      <th>VALUE</th>\n",
              "      <th>DATE_TIME</th>\n",
              "      <th>CELL_ON_SITE</th>\n",
              "      <th>DW_A_NUMBER</th>\n",
              "      <th>DW_B_NUMBER</th>\n",
              "      <th>COUNTRY_A</th>\n",
              "      <th>COUNTRY_B</th>\n",
              "      <th>CELL_ID</th>\n",
              "      <th>SITE_ID</th>\n",
              "    </tr>\n",
              "  </thead>\n",
              "  <tbody>\n",
              "    <tr>\n",
              "      <th>0</th>\n",
              "      <td>sms</td>\n",
              "      <td>0</td>\n",
              "      <td>2012-05-07 23:02:06.0</td>\n",
              "      <td>2</td>\n",
              "      <td>32255675c3b6fe3</td>\n",
              "      <td>1aa7ae01386e9fb</td>\n",
              "      <td>19e2e</td>\n",
              "      <td>19e2e</td>\n",
              "      <td>+854AcBQT2</td>\n",
              "      <td>+854AcBQT2</td>\n",
              "    </tr>\n",
              "    <tr>\n",
              "      <th>1</th>\n",
              "      <td>Voice</td>\n",
              "      <td>0</td>\n",
              "      <td>2012-05-07 23:03:44.0</td>\n",
              "      <td>1</td>\n",
              "      <td>ff16d6ac74c1c64</td>\n",
              "      <td>87d87309c15a8c9</td>\n",
              "      <td>19e2e</td>\n",
              "      <td>19e2e</td>\n",
              "      <td>+854AcBQT2</td>\n",
              "      <td>+854AcBQT2</td>\n",
              "    </tr>\n",
              "    <tr>\n",
              "      <th>2</th>\n",
              "      <td>sms</td>\n",
              "      <td>0</td>\n",
              "      <td>2012-05-07 23:04:06.0</td>\n",
              "      <td>0</td>\n",
              "      <td>98d9f2fb5ff624b</td>\n",
              "      <td>93343ba6e41af95</td>\n",
              "      <td>19e2e</td>\n",
              "      <td>19e2e</td>\n",
              "      <td>+laSrk7g6q</td>\n",
              "      <td>+laSrk7g6q</td>\n",
              "    </tr>\n",
              "    <tr>\n",
              "      <th>3</th>\n",
              "      <td>Voice</td>\n",
              "      <td>37</td>\n",
              "      <td>2012-05-07 23:04:48.0</td>\n",
              "      <td>1</td>\n",
              "      <td>3f9c8a33ec7be1f</td>\n",
              "      <td>7d05a38f89c49d8</td>\n",
              "      <td>19e2e</td>\n",
              "      <td>19e2e</td>\n",
              "      <td>/xvRrCVKoQ</td>\n",
              "      <td>/xvRrCVKoQ</td>\n",
              "    </tr>\n",
              "  </tbody>\n",
              "</table>\n",
              "</div>"
            ],
            "text/plain": [
              "  PRODUCT  VALUE              DATE_TIME  ... COUNTRY_B     CELL_ID     SITE_ID\n",
              "0     sms      0  2012-05-07 23:02:06.0  ...     19e2e  +854AcBQT2  +854AcBQT2\n",
              "1   Voice      0  2012-05-07 23:03:44.0  ...     19e2e  +854AcBQT2  +854AcBQT2\n",
              "2     sms      0  2012-05-07 23:04:06.0  ...     19e2e  +laSrk7g6q  +laSrk7g6q\n",
              "3   Voice     37  2012-05-07 23:04:48.0  ...     19e2e  /xvRrCVKoQ  /xvRrCVKoQ\n",
              "\n",
              "[4 rows x 10 columns]"
            ]
          },
          "metadata": {
            "tags": []
          },
          "execution_count": 6
        }
      ]
    },
    {
      "cell_type": "code",
      "metadata": {
        "colab": {
          "base_uri": "https://localhost:8080/",
          "height": 329
        },
        "id": "wLzJc9YE97r9",
        "outputId": "0254fdfc-d027-4303-851a-d93f47bdf1b6"
      },
      "source": [
        "# Creating a data frame using CSV files \n",
        "\n",
        "ds3_df = pd.read_csv('/content/Telcom_dataset3.csv')\n",
        "ds3_df.head(4)"
      ],
      "execution_count": 7,
      "outputs": [
        {
          "output_type": "execute_result",
          "data": {
            "text/html": [
              "<div>\n",
              "<style scoped>\n",
              "    .dataframe tbody tr th:only-of-type {\n",
              "        vertical-align: middle;\n",
              "    }\n",
              "\n",
              "    .dataframe tbody tr th {\n",
              "        vertical-align: top;\n",
              "    }\n",
              "\n",
              "    .dataframe thead th {\n",
              "        text-align: right;\n",
              "    }\n",
              "</style>\n",
              "<table border=\"1\" class=\"dataframe\">\n",
              "  <thead>\n",
              "    <tr style=\"text-align: right;\">\n",
              "      <th></th>\n",
              "      <th>PRODUCT</th>\n",
              "      <th>VALUE</th>\n",
              "      <th>DATE_TIME</th>\n",
              "      <th>CELL_ON_SITE</th>\n",
              "      <th>DW_A_NUMBER_INT</th>\n",
              "      <th>DW_B_NUMBER_INT</th>\n",
              "      <th>COUNTRY_A</th>\n",
              "      <th>COUNTRY_B</th>\n",
              "      <th>CELLID</th>\n",
              "      <th>SIET_ID</th>\n",
              "    </tr>\n",
              "  </thead>\n",
              "  <tbody>\n",
              "    <tr>\n",
              "      <th>0</th>\n",
              "      <td>Voice</td>\n",
              "      <td>61</td>\n",
              "      <td>2012-05-08 23:01:28.0</td>\n",
              "      <td>2</td>\n",
              "      <td>966f68353622feb</td>\n",
              "      <td>ffd53a3bb2db6f1</td>\n",
              "      <td>19e2e</td>\n",
              "      <td>19e2e</td>\n",
              "      <td>+38u2u/rfx</td>\n",
              "      <td>+38u2u/rfx</td>\n",
              "    </tr>\n",
              "    <tr>\n",
              "      <th>1</th>\n",
              "      <td>sms</td>\n",
              "      <td>0</td>\n",
              "      <td>2012-05-08 23:01:31.0</td>\n",
              "      <td>1</td>\n",
              "      <td>a0a597384c612d7</td>\n",
              "      <td>cf3b218f1dde792</td>\n",
              "      <td>19e2e</td>\n",
              "      <td>19e2e</td>\n",
              "      <td>+Fs4mTvdKx</td>\n",
              "      <td>+Fs4mTvdKx</td>\n",
              "    </tr>\n",
              "    <tr>\n",
              "      <th>2</th>\n",
              "      <td>Voice</td>\n",
              "      <td>10</td>\n",
              "      <td>2012-05-08 23:02:59.0</td>\n",
              "      <td>1</td>\n",
              "      <td>5441a9a58c97132</td>\n",
              "      <td>52f8b299515b9b7</td>\n",
              "      <td>19e2e</td>\n",
              "      <td>19e2e</td>\n",
              "      <td>+ZaaZozy/+</td>\n",
              "      <td>+ZaaZozy/+</td>\n",
              "    </tr>\n",
              "    <tr>\n",
              "      <th>3</th>\n",
              "      <td>sms</td>\n",
              "      <td>0</td>\n",
              "      <td>2012-05-08 23:03:04.0</td>\n",
              "      <td>0</td>\n",
              "      <td>8ab8b9ed6989f61</td>\n",
              "      <td>e09e736e46c5c3d</td>\n",
              "      <td>19e2e</td>\n",
              "      <td>19e2e</td>\n",
              "      <td>+cNeJzsTp3</td>\n",
              "      <td>+cNeJzsTp3</td>\n",
              "    </tr>\n",
              "  </tbody>\n",
              "</table>\n",
              "</div>"
            ],
            "text/plain": [
              "  PRODUCT  VALUE              DATE_TIME  ... COUNTRY_B      CELLID     SIET_ID\n",
              "0   Voice     61  2012-05-08 23:01:28.0  ...     19e2e  +38u2u/rfx  +38u2u/rfx\n",
              "1     sms      0  2012-05-08 23:01:31.0  ...     19e2e  +Fs4mTvdKx  +Fs4mTvdKx\n",
              "2   Voice     10  2012-05-08 23:02:59.0  ...     19e2e  +ZaaZozy/+  +ZaaZozy/+\n",
              "3     sms      0  2012-05-08 23:03:04.0  ...     19e2e  +cNeJzsTp3  +cNeJzsTp3\n",
              "\n",
              "[4 rows x 10 columns]"
            ]
          },
          "metadata": {
            "tags": []
          },
          "execution_count": 7
        }
      ]
    },
    {
      "cell_type": "markdown",
      "metadata": {
        "id": "wxPij_iK_OjU"
      },
      "source": [
        "#1.3 Cleaning the data"
      ]
    },
    {
      "cell_type": "markdown",
      "metadata": {
        "id": "UjFqXvbC1J0v"
      },
      "source": [
        "Our data is data with a lot of stuff that is irrelevant in our analysis. From mis-spelt words to null values to columns of data values that we are actually going to use.\n",
        "This section is going to help us clean the data and remain with data that is relevant for manipulation, analysis and providing insight"
      ]
    },
    {
      "cell_type": "code",
      "metadata": {
        "colab": {
          "base_uri": "https://localhost:8080/",
          "height": 207
        },
        "id": "r1nowlO41Z8l",
        "outputId": "7b366552-4ea1-4034-8343-30adf39e95a6"
      },
      "source": [
        "# We will first look through our descriptions and drop those columns that have \n",
        "# rendered irrelevant and not needed in our analysis\n",
        "# CELL_ON_SITE, COUNTRY_A, COUNTRY_B\n",
        "\n",
        "# Lets delete the columns that have been marked not needed or useless for \n",
        "# the first dataframe\n",
        "# We will set our dataframe as the dataframe where we are dropping specific \n",
        "# columns since we are not going to need the same\n",
        "\n",
        "ds1_df = ds1_df.drop(columns =['CELL_ON_SITE', 'COUNTRY_A', 'COUNTRY_B']) \n",
        "ds1_df.columns\n",
        "print(\"This is how our dataframe looks now\\n\")\n",
        "ds1_df.head(4)"
      ],
      "execution_count": 8,
      "outputs": [
        {
          "output_type": "stream",
          "text": [
            "This is how our dataframe looks now\n",
            "\n"
          ],
          "name": "stdout"
        },
        {
          "output_type": "execute_result",
          "data": {
            "text/html": [
              "<div>\n",
              "<style scoped>\n",
              "    .dataframe tbody tr th:only-of-type {\n",
              "        vertical-align: middle;\n",
              "    }\n",
              "\n",
              "    .dataframe tbody tr th {\n",
              "        vertical-align: top;\n",
              "    }\n",
              "\n",
              "    .dataframe thead th {\n",
              "        text-align: right;\n",
              "    }\n",
              "</style>\n",
              "<table border=\"1\" class=\"dataframe\">\n",
              "  <thead>\n",
              "    <tr style=\"text-align: right;\">\n",
              "      <th></th>\n",
              "      <th>PRODUTC</th>\n",
              "      <th>VALUE</th>\n",
              "      <th>DATETIME</th>\n",
              "      <th>DW_A_NUMBER_INT</th>\n",
              "      <th>DW_B_NUMBER_INT</th>\n",
              "      <th>CELL_ID</th>\n",
              "      <th>SITE_ID</th>\n",
              "    </tr>\n",
              "  </thead>\n",
              "  <tbody>\n",
              "    <tr>\n",
              "      <th>0</th>\n",
              "      <td>Voice</td>\n",
              "      <td>0</td>\n",
              "      <td>2012-05-06 23:04:37.0</td>\n",
              "      <td>49fae048b547780</td>\n",
              "      <td>1a49f8b0ded9de6</td>\n",
              "      <td>/TJNe+Mmtu</td>\n",
              "      <td>/TJNe+Mmtu</td>\n",
              "    </tr>\n",
              "    <tr>\n",
              "      <th>1</th>\n",
              "      <td>sms</td>\n",
              "      <td>0</td>\n",
              "      <td>2012-05-06 23:05:25.0</td>\n",
              "      <td>7a54a6eaee19e65</td>\n",
              "      <td>93343ba6e41af95</td>\n",
              "      <td>/+cKZKIp41</td>\n",
              "      <td>/+cKZKIp41</td>\n",
              "    </tr>\n",
              "    <tr>\n",
              "      <th>2</th>\n",
              "      <td>sms</td>\n",
              "      <td>25</td>\n",
              "      <td>2012-05-06 23:05:41.0</td>\n",
              "      <td>6008887b0207d82</td>\n",
              "      <td>7aacc9709ce0a20</td>\n",
              "      <td>/u0FSD+ahi</td>\n",
              "      <td>/u0FSD+ahi</td>\n",
              "    </tr>\n",
              "    <tr>\n",
              "      <th>3</th>\n",
              "      <td>Voice</td>\n",
              "      <td>56</td>\n",
              "      <td>2012-05-06 23:05:42.0</td>\n",
              "      <td>7370032e20f4e96</td>\n",
              "      <td>6af4a60e74c91d3</td>\n",
              "      <td>+cNeJzsTp3</td>\n",
              "      <td>+cNeJzsTp3</td>\n",
              "    </tr>\n",
              "  </tbody>\n",
              "</table>\n",
              "</div>"
            ],
            "text/plain": [
              "  PRODUTC  VALUE  ...     CELL_ID     SITE_ID\n",
              "0   Voice      0  ...  /TJNe+Mmtu  /TJNe+Mmtu\n",
              "1     sms      0  ...  /+cKZKIp41  /+cKZKIp41\n",
              "2     sms     25  ...  /u0FSD+ahi  /u0FSD+ahi\n",
              "3   Voice     56  ...  +cNeJzsTp3  +cNeJzsTp3\n",
              "\n",
              "[4 rows x 7 columns]"
            ]
          },
          "metadata": {
            "tags": []
          },
          "execution_count": 8
        }
      ]
    },
    {
      "cell_type": "code",
      "metadata": {
        "colab": {
          "base_uri": "https://localhost:8080/",
          "height": 0
        },
        "id": "2C_FP8Au3u1j",
        "outputId": "4bce15a7-b8d7-41e2-aae9-4e990d25f0f6"
      },
      "source": [
        "# Lets delete the columns that have been marked not needed or useless for \n",
        "# the first dataframe\n",
        "# We will set our dataframe as the dataframe where we are dropping specific \n",
        "# columns since we are not going to need the same\n",
        "\n",
        "print(ds2_df.columns)\n",
        "print(\"\\n\")\n",
        "ds2_df = ds2_df.drop(columns =['CELL_ON_SITE', 'COUNTRY_A', 'COUNTRY_B'], axis = 1) \n",
        "ds2_df.columns\n",
        "print(\"This is how our dataframe looks now\\n\")\n",
        "ds2_df.head(4)"
      ],
      "execution_count": 9,
      "outputs": [
        {
          "output_type": "stream",
          "text": [
            "Index(['PRODUCT', 'VALUE', 'DATE_TIME', 'CELL_ON_SITE', 'DW_A_NUMBER',\n",
            "       'DW_B_NUMBER', 'COUNTRY_A', 'COUNTRY_B', 'CELL_ID', 'SITE_ID'],\n",
            "      dtype='object')\n",
            "\n",
            "\n",
            "This is how our dataframe looks now\n",
            "\n"
          ],
          "name": "stdout"
        },
        {
          "output_type": "execute_result",
          "data": {
            "text/html": [
              "<div>\n",
              "<style scoped>\n",
              "    .dataframe tbody tr th:only-of-type {\n",
              "        vertical-align: middle;\n",
              "    }\n",
              "\n",
              "    .dataframe tbody tr th {\n",
              "        vertical-align: top;\n",
              "    }\n",
              "\n",
              "    .dataframe thead th {\n",
              "        text-align: right;\n",
              "    }\n",
              "</style>\n",
              "<table border=\"1\" class=\"dataframe\">\n",
              "  <thead>\n",
              "    <tr style=\"text-align: right;\">\n",
              "      <th></th>\n",
              "      <th>PRODUCT</th>\n",
              "      <th>VALUE</th>\n",
              "      <th>DATE_TIME</th>\n",
              "      <th>DW_A_NUMBER</th>\n",
              "      <th>DW_B_NUMBER</th>\n",
              "      <th>CELL_ID</th>\n",
              "      <th>SITE_ID</th>\n",
              "    </tr>\n",
              "  </thead>\n",
              "  <tbody>\n",
              "    <tr>\n",
              "      <th>0</th>\n",
              "      <td>sms</td>\n",
              "      <td>0</td>\n",
              "      <td>2012-05-07 23:02:06.0</td>\n",
              "      <td>32255675c3b6fe3</td>\n",
              "      <td>1aa7ae01386e9fb</td>\n",
              "      <td>+854AcBQT2</td>\n",
              "      <td>+854AcBQT2</td>\n",
              "    </tr>\n",
              "    <tr>\n",
              "      <th>1</th>\n",
              "      <td>Voice</td>\n",
              "      <td>0</td>\n",
              "      <td>2012-05-07 23:03:44.0</td>\n",
              "      <td>ff16d6ac74c1c64</td>\n",
              "      <td>87d87309c15a8c9</td>\n",
              "      <td>+854AcBQT2</td>\n",
              "      <td>+854AcBQT2</td>\n",
              "    </tr>\n",
              "    <tr>\n",
              "      <th>2</th>\n",
              "      <td>sms</td>\n",
              "      <td>0</td>\n",
              "      <td>2012-05-07 23:04:06.0</td>\n",
              "      <td>98d9f2fb5ff624b</td>\n",
              "      <td>93343ba6e41af95</td>\n",
              "      <td>+laSrk7g6q</td>\n",
              "      <td>+laSrk7g6q</td>\n",
              "    </tr>\n",
              "    <tr>\n",
              "      <th>3</th>\n",
              "      <td>Voice</td>\n",
              "      <td>37</td>\n",
              "      <td>2012-05-07 23:04:48.0</td>\n",
              "      <td>3f9c8a33ec7be1f</td>\n",
              "      <td>7d05a38f89c49d8</td>\n",
              "      <td>/xvRrCVKoQ</td>\n",
              "      <td>/xvRrCVKoQ</td>\n",
              "    </tr>\n",
              "  </tbody>\n",
              "</table>\n",
              "</div>"
            ],
            "text/plain": [
              "  PRODUCT  VALUE  ...     CELL_ID     SITE_ID\n",
              "0     sms      0  ...  +854AcBQT2  +854AcBQT2\n",
              "1   Voice      0  ...  +854AcBQT2  +854AcBQT2\n",
              "2     sms      0  ...  +laSrk7g6q  +laSrk7g6q\n",
              "3   Voice     37  ...  /xvRrCVKoQ  /xvRrCVKoQ\n",
              "\n",
              "[4 rows x 7 columns]"
            ]
          },
          "metadata": {
            "tags": []
          },
          "execution_count": 9
        }
      ]
    },
    {
      "cell_type": "code",
      "metadata": {
        "colab": {
          "base_uri": "https://localhost:8080/",
          "height": 0
        },
        "id": "GCxYl71o5NoR",
        "outputId": "10dcd9eb-1b33-486a-f9a0-be02955225cd"
      },
      "source": [
        "# Lets delete the columns that have been marked not needed or useless for \n",
        "# the first dataframe\n",
        "# We will set our dataframe as the dataframe where we are dropping specific \n",
        "# columns since we are not going to need the same\n",
        "\n",
        "print(ds3_df.columns)\n",
        "print(\"\\n\")\n",
        "ds3_df = ds3_df.drop(columns =['CELL_ON_SITE', 'COUNTRY_A', 'COUNTRY_B']) \n",
        "ds3_df.columns\n",
        "print(\"This is how our dataframe looks now\\n\")\n",
        "ds3_df.head(5)"
      ],
      "execution_count": 10,
      "outputs": [
        {
          "output_type": "stream",
          "text": [
            "Index(['PRODUCT', 'VALUE', 'DATE_TIME', 'CELL_ON_SITE', 'DW_A_NUMBER_INT',\n",
            "       'DW_B_NUMBER_INT', 'COUNTRY_A', 'COUNTRY_B', 'CELLID', 'SIET_ID'],\n",
            "      dtype='object')\n",
            "\n",
            "\n",
            "This is how our dataframe looks now\n",
            "\n"
          ],
          "name": "stdout"
        },
        {
          "output_type": "execute_result",
          "data": {
            "text/html": [
              "<div>\n",
              "<style scoped>\n",
              "    .dataframe tbody tr th:only-of-type {\n",
              "        vertical-align: middle;\n",
              "    }\n",
              "\n",
              "    .dataframe tbody tr th {\n",
              "        vertical-align: top;\n",
              "    }\n",
              "\n",
              "    .dataframe thead th {\n",
              "        text-align: right;\n",
              "    }\n",
              "</style>\n",
              "<table border=\"1\" class=\"dataframe\">\n",
              "  <thead>\n",
              "    <tr style=\"text-align: right;\">\n",
              "      <th></th>\n",
              "      <th>PRODUCT</th>\n",
              "      <th>VALUE</th>\n",
              "      <th>DATE_TIME</th>\n",
              "      <th>DW_A_NUMBER_INT</th>\n",
              "      <th>DW_B_NUMBER_INT</th>\n",
              "      <th>CELLID</th>\n",
              "      <th>SIET_ID</th>\n",
              "    </tr>\n",
              "  </thead>\n",
              "  <tbody>\n",
              "    <tr>\n",
              "      <th>0</th>\n",
              "      <td>Voice</td>\n",
              "      <td>61</td>\n",
              "      <td>2012-05-08 23:01:28.0</td>\n",
              "      <td>966f68353622feb</td>\n",
              "      <td>ffd53a3bb2db6f1</td>\n",
              "      <td>+38u2u/rfx</td>\n",
              "      <td>+38u2u/rfx</td>\n",
              "    </tr>\n",
              "    <tr>\n",
              "      <th>1</th>\n",
              "      <td>sms</td>\n",
              "      <td>0</td>\n",
              "      <td>2012-05-08 23:01:31.0</td>\n",
              "      <td>a0a597384c612d7</td>\n",
              "      <td>cf3b218f1dde792</td>\n",
              "      <td>+Fs4mTvdKx</td>\n",
              "      <td>+Fs4mTvdKx</td>\n",
              "    </tr>\n",
              "    <tr>\n",
              "      <th>2</th>\n",
              "      <td>Voice</td>\n",
              "      <td>10</td>\n",
              "      <td>2012-05-08 23:02:59.0</td>\n",
              "      <td>5441a9a58c97132</td>\n",
              "      <td>52f8b299515b9b7</td>\n",
              "      <td>+ZaaZozy/+</td>\n",
              "      <td>+ZaaZozy/+</td>\n",
              "    </tr>\n",
              "    <tr>\n",
              "      <th>3</th>\n",
              "      <td>sms</td>\n",
              "      <td>0</td>\n",
              "      <td>2012-05-08 23:03:04.0</td>\n",
              "      <td>8ab8b9ed6989f61</td>\n",
              "      <td>e09e736e46c5c3d</td>\n",
              "      <td>+cNeJzsTp3</td>\n",
              "      <td>+cNeJzsTp3</td>\n",
              "    </tr>\n",
              "    <tr>\n",
              "      <th>4</th>\n",
              "      <td>Voice</td>\n",
              "      <td>22</td>\n",
              "      <td>2012-05-08 23:03:16.0</td>\n",
              "      <td>52662a62b199334</td>\n",
              "      <td>2186273faab4602</td>\n",
              "      <td>/eeMklgyJA</td>\n",
              "      <td>/eeMklgyJA</td>\n",
              "    </tr>\n",
              "  </tbody>\n",
              "</table>\n",
              "</div>"
            ],
            "text/plain": [
              "  PRODUCT  VALUE  ...      CELLID     SIET_ID\n",
              "0   Voice     61  ...  +38u2u/rfx  +38u2u/rfx\n",
              "1     sms      0  ...  +Fs4mTvdKx  +Fs4mTvdKx\n",
              "2   Voice     10  ...  +ZaaZozy/+  +ZaaZozy/+\n",
              "3     sms      0  ...  +cNeJzsTp3  +cNeJzsTp3\n",
              "4   Voice     22  ...  /eeMklgyJA  /eeMklgyJA\n",
              "\n",
              "[5 rows x 7 columns]"
            ]
          },
          "metadata": {
            "tags": []
          },
          "execution_count": 10
        }
      ]
    },
    {
      "cell_type": "code",
      "metadata": {
        "colab": {
          "base_uri": "https://localhost:8080/",
          "height": 0
        },
        "id": "MYZiBvHw6TSZ",
        "outputId": "9992710a-6105-4a5b-fc5c-bd98c21b8cb2"
      },
      "source": [
        "# We have mis-spelt column names on our data that need to be renamed rightly so\n",
        "# as to be able to work on our data seamlessly\n",
        "\n",
        "ds2_df = ds2_df.rename(columns={'DW_A_NUMBER': 'DW_A_NUMBER_INT', 'DW_B_NUMBER': 'DW_B_NUMBER_INT'})\n",
        "ds2_df"
      ],
      "execution_count": 11,
      "outputs": [
        {
          "output_type": "execute_result",
          "data": {
            "text/html": [
              "<div>\n",
              "<style scoped>\n",
              "    .dataframe tbody tr th:only-of-type {\n",
              "        vertical-align: middle;\n",
              "    }\n",
              "\n",
              "    .dataframe tbody tr th {\n",
              "        vertical-align: top;\n",
              "    }\n",
              "\n",
              "    .dataframe thead th {\n",
              "        text-align: right;\n",
              "    }\n",
              "</style>\n",
              "<table border=\"1\" class=\"dataframe\">\n",
              "  <thead>\n",
              "    <tr style=\"text-align: right;\">\n",
              "      <th></th>\n",
              "      <th>PRODUCT</th>\n",
              "      <th>VALUE</th>\n",
              "      <th>DATE_TIME</th>\n",
              "      <th>DW_A_NUMBER_INT</th>\n",
              "      <th>DW_B_NUMBER_INT</th>\n",
              "      <th>CELL_ID</th>\n",
              "      <th>SITE_ID</th>\n",
              "    </tr>\n",
              "  </thead>\n",
              "  <tbody>\n",
              "    <tr>\n",
              "      <th>0</th>\n",
              "      <td>sms</td>\n",
              "      <td>0</td>\n",
              "      <td>2012-05-07 23:02:06.0</td>\n",
              "      <td>32255675c3b6fe3</td>\n",
              "      <td>1aa7ae01386e9fb</td>\n",
              "      <td>+854AcBQT2</td>\n",
              "      <td>+854AcBQT2</td>\n",
              "    </tr>\n",
              "    <tr>\n",
              "      <th>1</th>\n",
              "      <td>Voice</td>\n",
              "      <td>0</td>\n",
              "      <td>2012-05-07 23:03:44.0</td>\n",
              "      <td>ff16d6ac74c1c64</td>\n",
              "      <td>87d87309c15a8c9</td>\n",
              "      <td>+854AcBQT2</td>\n",
              "      <td>+854AcBQT2</td>\n",
              "    </tr>\n",
              "    <tr>\n",
              "      <th>2</th>\n",
              "      <td>sms</td>\n",
              "      <td>0</td>\n",
              "      <td>2012-05-07 23:04:06.0</td>\n",
              "      <td>98d9f2fb5ff624b</td>\n",
              "      <td>93343ba6e41af95</td>\n",
              "      <td>+laSrk7g6q</td>\n",
              "      <td>+laSrk7g6q</td>\n",
              "    </tr>\n",
              "    <tr>\n",
              "      <th>3</th>\n",
              "      <td>Voice</td>\n",
              "      <td>37</td>\n",
              "      <td>2012-05-07 23:04:48.0</td>\n",
              "      <td>3f9c8a33ec7be1f</td>\n",
              "      <td>7d05a38f89c49d8</td>\n",
              "      <td>/xvRrCVKoQ</td>\n",
              "      <td>/xvRrCVKoQ</td>\n",
              "    </tr>\n",
              "    <tr>\n",
              "      <th>4</th>\n",
              "      <td>sms</td>\n",
              "      <td>25</td>\n",
              "      <td>2012-05-07 23:04:58.0</td>\n",
              "      <td>7bcccc03adf3864</td>\n",
              "      <td>56a5d5430d2fa86</td>\n",
              "      <td>+bO+qkSonO</td>\n",
              "      <td>+bO+qkSonO</td>\n",
              "    </tr>\n",
              "    <tr>\n",
              "      <th>...</th>\n",
              "      <td>...</td>\n",
              "      <td>...</td>\n",
              "      <td>...</td>\n",
              "      <td>...</td>\n",
              "      <td>...</td>\n",
              "      <td>...</td>\n",
              "      <td>...</td>\n",
              "    </tr>\n",
              "    <tr>\n",
              "      <th>4996</th>\n",
              "      <td>sms</td>\n",
              "      <td>0</td>\n",
              "      <td>2012-05-08 00:01:53.0</td>\n",
              "      <td>22ffbbb8ac8cde1</td>\n",
              "      <td>8db839a0c08bd54</td>\n",
              "      <td>896459aace</td>\n",
              "      <td>b7d00e59e4</td>\n",
              "    </tr>\n",
              "    <tr>\n",
              "      <th>4997</th>\n",
              "      <td>sms</td>\n",
              "      <td>25</td>\n",
              "      <td>2012-05-08 00:01:53.0</td>\n",
              "      <td>bcf512a3542d42c</td>\n",
              "      <td>5a2848d6f983c31</td>\n",
              "      <td>7e90b35166</td>\n",
              "      <td>211015b14d</td>\n",
              "    </tr>\n",
              "    <tr>\n",
              "      <th>4998</th>\n",
              "      <td>sms</td>\n",
              "      <td>0</td>\n",
              "      <td>2012-05-08 00:01:53.0</td>\n",
              "      <td>05e3c3d41628a9f</td>\n",
              "      <td>7185a95077eae9e</td>\n",
              "      <td>fe70e431df</td>\n",
              "      <td>c7ea989264</td>\n",
              "    </tr>\n",
              "    <tr>\n",
              "      <th>4999</th>\n",
              "      <td>data</td>\n",
              "      <td>0</td>\n",
              "      <td>2012-05-08 00:01:53.0</td>\n",
              "      <td>86a4dbf018f6f24</td>\n",
              "      <td>5a4dc9e82deb309</td>\n",
              "      <td>ffa6759bb2</td>\n",
              "      <td>NaN</td>\n",
              "    </tr>\n",
              "    <tr>\n",
              "      <th>5000</th>\n",
              "      <td>Voice</td>\n",
              "      <td>0</td>\n",
              "      <td>2012-05-08 00:01:53.0</td>\n",
              "      <td>a03c9837c62a5b9</td>\n",
              "      <td>de590e98879fa37</td>\n",
              "      <td>8630058aca</td>\n",
              "      <td>b47a998a3e</td>\n",
              "    </tr>\n",
              "  </tbody>\n",
              "</table>\n",
              "<p>5001 rows × 7 columns</p>\n",
              "</div>"
            ],
            "text/plain": [
              "     PRODUCT  VALUE  ...     CELL_ID     SITE_ID\n",
              "0        sms      0  ...  +854AcBQT2  +854AcBQT2\n",
              "1      Voice      0  ...  +854AcBQT2  +854AcBQT2\n",
              "2        sms      0  ...  +laSrk7g6q  +laSrk7g6q\n",
              "3      Voice     37  ...  /xvRrCVKoQ  /xvRrCVKoQ\n",
              "4        sms     25  ...  +bO+qkSonO  +bO+qkSonO\n",
              "...      ...    ...  ...         ...         ...\n",
              "4996     sms      0  ...  896459aace  b7d00e59e4\n",
              "4997     sms     25  ...  7e90b35166  211015b14d\n",
              "4998     sms      0  ...  fe70e431df  c7ea989264\n",
              "4999    data      0  ...  ffa6759bb2         NaN\n",
              "5000   Voice      0  ...  8630058aca  b47a998a3e\n",
              "\n",
              "[5001 rows x 7 columns]"
            ]
          },
          "metadata": {
            "tags": []
          },
          "execution_count": 11
        }
      ]
    },
    {
      "cell_type": "code",
      "metadata": {
        "colab": {
          "base_uri": "https://localhost:8080/",
          "height": 0
        },
        "id": "YlD3sB2qcoK0",
        "outputId": "9c7e853f-be67-48be-b7f7-bb7c9c7d44c4"
      },
      "source": [
        "ds1_df = ds1_df.rename(columns={'DATETIME': 'DATE_TIME'})\n",
        "ds1_df"
      ],
      "execution_count": 12,
      "outputs": [
        {
          "output_type": "execute_result",
          "data": {
            "text/html": [
              "<div>\n",
              "<style scoped>\n",
              "    .dataframe tbody tr th:only-of-type {\n",
              "        vertical-align: middle;\n",
              "    }\n",
              "\n",
              "    .dataframe tbody tr th {\n",
              "        vertical-align: top;\n",
              "    }\n",
              "\n",
              "    .dataframe thead th {\n",
              "        text-align: right;\n",
              "    }\n",
              "</style>\n",
              "<table border=\"1\" class=\"dataframe\">\n",
              "  <thead>\n",
              "    <tr style=\"text-align: right;\">\n",
              "      <th></th>\n",
              "      <th>PRODUTC</th>\n",
              "      <th>VALUE</th>\n",
              "      <th>DATE_TIME</th>\n",
              "      <th>DW_A_NUMBER_INT</th>\n",
              "      <th>DW_B_NUMBER_INT</th>\n",
              "      <th>CELL_ID</th>\n",
              "      <th>SITE_ID</th>\n",
              "    </tr>\n",
              "  </thead>\n",
              "  <tbody>\n",
              "    <tr>\n",
              "      <th>0</th>\n",
              "      <td>Voice</td>\n",
              "      <td>0</td>\n",
              "      <td>2012-05-06 23:04:37.0</td>\n",
              "      <td>49fae048b547780</td>\n",
              "      <td>1a49f8b0ded9de6</td>\n",
              "      <td>/TJNe+Mmtu</td>\n",
              "      <td>/TJNe+Mmtu</td>\n",
              "    </tr>\n",
              "    <tr>\n",
              "      <th>1</th>\n",
              "      <td>sms</td>\n",
              "      <td>0</td>\n",
              "      <td>2012-05-06 23:05:25.0</td>\n",
              "      <td>7a54a6eaee19e65</td>\n",
              "      <td>93343ba6e41af95</td>\n",
              "      <td>/+cKZKIp41</td>\n",
              "      <td>/+cKZKIp41</td>\n",
              "    </tr>\n",
              "    <tr>\n",
              "      <th>2</th>\n",
              "      <td>sms</td>\n",
              "      <td>25</td>\n",
              "      <td>2012-05-06 23:05:41.0</td>\n",
              "      <td>6008887b0207d82</td>\n",
              "      <td>7aacc9709ce0a20</td>\n",
              "      <td>/u0FSD+ahi</td>\n",
              "      <td>/u0FSD+ahi</td>\n",
              "    </tr>\n",
              "    <tr>\n",
              "      <th>3</th>\n",
              "      <td>Voice</td>\n",
              "      <td>56</td>\n",
              "      <td>2012-05-06 23:05:42.0</td>\n",
              "      <td>7370032e20f4e96</td>\n",
              "      <td>6af4a60e74c91d3</td>\n",
              "      <td>+cNeJzsTp3</td>\n",
              "      <td>+cNeJzsTp3</td>\n",
              "    </tr>\n",
              "    <tr>\n",
              "      <th>4</th>\n",
              "      <td>Voice</td>\n",
              "      <td>14</td>\n",
              "      <td>2012-05-06 23:06:29.0</td>\n",
              "      <td>966ba4656e38e62</td>\n",
              "      <td>02aa736ee555d5c</td>\n",
              "      <td>051KhYDCpv</td>\n",
              "      <td>051KhYDCpv</td>\n",
              "    </tr>\n",
              "    <tr>\n",
              "      <th>...</th>\n",
              "      <td>...</td>\n",
              "      <td>...</td>\n",
              "      <td>...</td>\n",
              "      <td>...</td>\n",
              "      <td>...</td>\n",
              "      <td>...</td>\n",
              "      <td>...</td>\n",
              "    </tr>\n",
              "    <tr>\n",
              "      <th>4996</th>\n",
              "      <td>sms</td>\n",
              "      <td>100</td>\n",
              "      <td>2012-05-07 00:01:54.0</td>\n",
              "      <td>92e367d671f45c5</td>\n",
              "      <td>38811081cf82c90</td>\n",
              "      <td>0c2371d9bc</td>\n",
              "      <td>1e751d08a4</td>\n",
              "    </tr>\n",
              "    <tr>\n",
              "      <th>4997</th>\n",
              "      <td>Voice</td>\n",
              "      <td>1</td>\n",
              "      <td>2012-05-07 00:01:54.0</td>\n",
              "      <td>83b44b18238e602</td>\n",
              "      <td>6ec63d4aa5de5dd</td>\n",
              "      <td>5fb791cf56</td>\n",
              "      <td>65efe2bc62</td>\n",
              "    </tr>\n",
              "    <tr>\n",
              "      <th>4998</th>\n",
              "      <td>Voice</td>\n",
              "      <td>0</td>\n",
              "      <td>2012-05-07 00:01:54.0</td>\n",
              "      <td>49fae048b547780</td>\n",
              "      <td>1a49f8b0ded9de6</td>\n",
              "      <td>7773627c12</td>\n",
              "      <td>9ef9616350</td>\n",
              "    </tr>\n",
              "    <tr>\n",
              "      <th>4999</th>\n",
              "      <td>Voice</td>\n",
              "      <td>0</td>\n",
              "      <td>2012-05-07 00:01:54.0</td>\n",
              "      <td>a1613f1a992716a</td>\n",
              "      <td>bd663f07b6c8bcd</td>\n",
              "      <td>3f4af49d6c</td>\n",
              "      <td>969b8d0e39</td>\n",
              "    </tr>\n",
              "    <tr>\n",
              "      <th>5000</th>\n",
              "      <td>Voice</td>\n",
              "      <td>7</td>\n",
              "      <td>2012-05-07 00:01:54.0</td>\n",
              "      <td>1670a5f7c22f4ed</td>\n",
              "      <td>3600efd094f2225</td>\n",
              "      <td>6f4d9b77a5</td>\n",
              "      <td>ebfc58af70</td>\n",
              "    </tr>\n",
              "  </tbody>\n",
              "</table>\n",
              "<p>5001 rows × 7 columns</p>\n",
              "</div>"
            ],
            "text/plain": [
              "     PRODUTC  VALUE  ...     CELL_ID     SITE_ID\n",
              "0      Voice      0  ...  /TJNe+Mmtu  /TJNe+Mmtu\n",
              "1        sms      0  ...  /+cKZKIp41  /+cKZKIp41\n",
              "2        sms     25  ...  /u0FSD+ahi  /u0FSD+ahi\n",
              "3      Voice     56  ...  +cNeJzsTp3  +cNeJzsTp3\n",
              "4      Voice     14  ...  051KhYDCpv  051KhYDCpv\n",
              "...      ...    ...  ...         ...         ...\n",
              "4996     sms    100  ...  0c2371d9bc  1e751d08a4\n",
              "4997   Voice      1  ...  5fb791cf56  65efe2bc62\n",
              "4998   Voice      0  ...  7773627c12  9ef9616350\n",
              "4999   Voice      0  ...  3f4af49d6c  969b8d0e39\n",
              "5000   Voice      7  ...  6f4d9b77a5  ebfc58af70\n",
              "\n",
              "[5001 rows x 7 columns]"
            ]
          },
          "metadata": {
            "tags": []
          },
          "execution_count": 12
        }
      ]
    },
    {
      "cell_type": "code",
      "metadata": {
        "colab": {
          "base_uri": "https://localhost:8080/",
          "height": 0
        },
        "id": "a8wDGLvEqzv0",
        "outputId": "d1be2cee-101d-48a3-ba22-373fc8325a52"
      },
      "source": [
        "# Our third dataframe has a column spelt wrongly. The column 'SITE_ID\n",
        "# has been misspelt as 'SIET_ID'\n",
        "ds3_df = ds3_df.rename(columns={'SIET_ID': 'SITE_ID', 'CELLID': 'CELL_ID'})\n",
        "ds3_df    "
      ],
      "execution_count": 13,
      "outputs": [
        {
          "output_type": "execute_result",
          "data": {
            "text/html": [
              "<div>\n",
              "<style scoped>\n",
              "    .dataframe tbody tr th:only-of-type {\n",
              "        vertical-align: middle;\n",
              "    }\n",
              "\n",
              "    .dataframe tbody tr th {\n",
              "        vertical-align: top;\n",
              "    }\n",
              "\n",
              "    .dataframe thead th {\n",
              "        text-align: right;\n",
              "    }\n",
              "</style>\n",
              "<table border=\"1\" class=\"dataframe\">\n",
              "  <thead>\n",
              "    <tr style=\"text-align: right;\">\n",
              "      <th></th>\n",
              "      <th>PRODUCT</th>\n",
              "      <th>VALUE</th>\n",
              "      <th>DATE_TIME</th>\n",
              "      <th>DW_A_NUMBER_INT</th>\n",
              "      <th>DW_B_NUMBER_INT</th>\n",
              "      <th>CELL_ID</th>\n",
              "      <th>SITE_ID</th>\n",
              "    </tr>\n",
              "  </thead>\n",
              "  <tbody>\n",
              "    <tr>\n",
              "      <th>0</th>\n",
              "      <td>Voice</td>\n",
              "      <td>61</td>\n",
              "      <td>2012-05-08 23:01:28.0</td>\n",
              "      <td>966f68353622feb</td>\n",
              "      <td>ffd53a3bb2db6f1</td>\n",
              "      <td>+38u2u/rfx</td>\n",
              "      <td>+38u2u/rfx</td>\n",
              "    </tr>\n",
              "    <tr>\n",
              "      <th>1</th>\n",
              "      <td>sms</td>\n",
              "      <td>0</td>\n",
              "      <td>2012-05-08 23:01:31.0</td>\n",
              "      <td>a0a597384c612d7</td>\n",
              "      <td>cf3b218f1dde792</td>\n",
              "      <td>+Fs4mTvdKx</td>\n",
              "      <td>+Fs4mTvdKx</td>\n",
              "    </tr>\n",
              "    <tr>\n",
              "      <th>2</th>\n",
              "      <td>Voice</td>\n",
              "      <td>10</td>\n",
              "      <td>2012-05-08 23:02:59.0</td>\n",
              "      <td>5441a9a58c97132</td>\n",
              "      <td>52f8b299515b9b7</td>\n",
              "      <td>+ZaaZozy/+</td>\n",
              "      <td>+ZaaZozy/+</td>\n",
              "    </tr>\n",
              "    <tr>\n",
              "      <th>3</th>\n",
              "      <td>sms</td>\n",
              "      <td>0</td>\n",
              "      <td>2012-05-08 23:03:04.0</td>\n",
              "      <td>8ab8b9ed6989f61</td>\n",
              "      <td>e09e736e46c5c3d</td>\n",
              "      <td>+cNeJzsTp3</td>\n",
              "      <td>+cNeJzsTp3</td>\n",
              "    </tr>\n",
              "    <tr>\n",
              "      <th>4</th>\n",
              "      <td>Voice</td>\n",
              "      <td>22</td>\n",
              "      <td>2012-05-08 23:03:16.0</td>\n",
              "      <td>52662a62b199334</td>\n",
              "      <td>2186273faab4602</td>\n",
              "      <td>/eeMklgyJA</td>\n",
              "      <td>/eeMklgyJA</td>\n",
              "    </tr>\n",
              "    <tr>\n",
              "      <th>...</th>\n",
              "      <td>...</td>\n",
              "      <td>...</td>\n",
              "      <td>...</td>\n",
              "      <td>...</td>\n",
              "      <td>...</td>\n",
              "      <td>...</td>\n",
              "      <td>...</td>\n",
              "    </tr>\n",
              "    <tr>\n",
              "      <th>4996</th>\n",
              "      <td>Voice</td>\n",
              "      <td>0</td>\n",
              "      <td>2012-05-09 00:01:43.0</td>\n",
              "      <td>467333ade2b4b9c</td>\n",
              "      <td>0ab2acd804d01fe</td>\n",
              "      <td>2aa04dcab7</td>\n",
              "      <td>f7d63a29e5</td>\n",
              "    </tr>\n",
              "    <tr>\n",
              "      <th>4997</th>\n",
              "      <td>Voice</td>\n",
              "      <td>62</td>\n",
              "      <td>2012-05-09 00:01:43.0</td>\n",
              "      <td>e077a6b74c5053c</td>\n",
              "      <td>4c8098eb6ea1a41</td>\n",
              "      <td>7f1f2f889f</td>\n",
              "      <td>b4ddb9e93c</td>\n",
              "    </tr>\n",
              "    <tr>\n",
              "      <th>4998</th>\n",
              "      <td>Voice</td>\n",
              "      <td>32</td>\n",
              "      <td>2012-05-09 00:01:43.0</td>\n",
              "      <td>77f53c39d27c050</td>\n",
              "      <td>9d064f013e2cab2</td>\n",
              "      <td>a4731e780e</td>\n",
              "      <td>d68260ef50</td>\n",
              "    </tr>\n",
              "    <tr>\n",
              "      <th>4999</th>\n",
              "      <td>Voice</td>\n",
              "      <td>30</td>\n",
              "      <td>2012-05-09 00:01:43.0</td>\n",
              "      <td>672ce74c418aa7a</td>\n",
              "      <td>f9ff5af59cf0d68</td>\n",
              "      <td>98ed726da2</td>\n",
              "      <td>b4130b54ab</td>\n",
              "    </tr>\n",
              "    <tr>\n",
              "      <th>5000</th>\n",
              "      <td>Voice</td>\n",
              "      <td>60</td>\n",
              "      <td>2012-05-09 00:01:43.0</td>\n",
              "      <td>6edeb4c55714650</td>\n",
              "      <td>7e60838216482a7</td>\n",
              "      <td>1c11a2fcbb</td>\n",
              "      <td>6d70dae094</td>\n",
              "    </tr>\n",
              "  </tbody>\n",
              "</table>\n",
              "<p>5001 rows × 7 columns</p>\n",
              "</div>"
            ],
            "text/plain": [
              "     PRODUCT  VALUE  ...     CELL_ID     SITE_ID\n",
              "0      Voice     61  ...  +38u2u/rfx  +38u2u/rfx\n",
              "1        sms      0  ...  +Fs4mTvdKx  +Fs4mTvdKx\n",
              "2      Voice     10  ...  +ZaaZozy/+  +ZaaZozy/+\n",
              "3        sms      0  ...  +cNeJzsTp3  +cNeJzsTp3\n",
              "4      Voice     22  ...  /eeMklgyJA  /eeMklgyJA\n",
              "...      ...    ...  ...         ...         ...\n",
              "4996   Voice      0  ...  2aa04dcab7  f7d63a29e5\n",
              "4997   Voice     62  ...  7f1f2f889f  b4ddb9e93c\n",
              "4998   Voice     32  ...  a4731e780e  d68260ef50\n",
              "4999   Voice     30  ...  98ed726da2  b4130b54ab\n",
              "5000   Voice     60  ...  1c11a2fcbb  6d70dae094\n",
              "\n",
              "[5001 rows x 7 columns]"
            ]
          },
          "metadata": {
            "tags": []
          },
          "execution_count": 13
        }
      ]
    },
    {
      "cell_type": "code",
      "metadata": {
        "colab": {
          "base_uri": "https://localhost:8080/",
          "height": 419
        },
        "id": "H7qIBVHcXZSq",
        "outputId": "efbc354e-0d80-4a76-9c61-5787a3a1c452"
      },
      "source": [
        "ds1_df = ds1_df.rename(columns={'PRODUTC': 'PRODUCT'})\n",
        "ds1_df"
      ],
      "execution_count": 14,
      "outputs": [
        {
          "output_type": "execute_result",
          "data": {
            "text/html": [
              "<div>\n",
              "<style scoped>\n",
              "    .dataframe tbody tr th:only-of-type {\n",
              "        vertical-align: middle;\n",
              "    }\n",
              "\n",
              "    .dataframe tbody tr th {\n",
              "        vertical-align: top;\n",
              "    }\n",
              "\n",
              "    .dataframe thead th {\n",
              "        text-align: right;\n",
              "    }\n",
              "</style>\n",
              "<table border=\"1\" class=\"dataframe\">\n",
              "  <thead>\n",
              "    <tr style=\"text-align: right;\">\n",
              "      <th></th>\n",
              "      <th>PRODUCT</th>\n",
              "      <th>VALUE</th>\n",
              "      <th>DATE_TIME</th>\n",
              "      <th>DW_A_NUMBER_INT</th>\n",
              "      <th>DW_B_NUMBER_INT</th>\n",
              "      <th>CELL_ID</th>\n",
              "      <th>SITE_ID</th>\n",
              "    </tr>\n",
              "  </thead>\n",
              "  <tbody>\n",
              "    <tr>\n",
              "      <th>0</th>\n",
              "      <td>Voice</td>\n",
              "      <td>0</td>\n",
              "      <td>2012-05-06 23:04:37.0</td>\n",
              "      <td>49fae048b547780</td>\n",
              "      <td>1a49f8b0ded9de6</td>\n",
              "      <td>/TJNe+Mmtu</td>\n",
              "      <td>/TJNe+Mmtu</td>\n",
              "    </tr>\n",
              "    <tr>\n",
              "      <th>1</th>\n",
              "      <td>sms</td>\n",
              "      <td>0</td>\n",
              "      <td>2012-05-06 23:05:25.0</td>\n",
              "      <td>7a54a6eaee19e65</td>\n",
              "      <td>93343ba6e41af95</td>\n",
              "      <td>/+cKZKIp41</td>\n",
              "      <td>/+cKZKIp41</td>\n",
              "    </tr>\n",
              "    <tr>\n",
              "      <th>2</th>\n",
              "      <td>sms</td>\n",
              "      <td>25</td>\n",
              "      <td>2012-05-06 23:05:41.0</td>\n",
              "      <td>6008887b0207d82</td>\n",
              "      <td>7aacc9709ce0a20</td>\n",
              "      <td>/u0FSD+ahi</td>\n",
              "      <td>/u0FSD+ahi</td>\n",
              "    </tr>\n",
              "    <tr>\n",
              "      <th>3</th>\n",
              "      <td>Voice</td>\n",
              "      <td>56</td>\n",
              "      <td>2012-05-06 23:05:42.0</td>\n",
              "      <td>7370032e20f4e96</td>\n",
              "      <td>6af4a60e74c91d3</td>\n",
              "      <td>+cNeJzsTp3</td>\n",
              "      <td>+cNeJzsTp3</td>\n",
              "    </tr>\n",
              "    <tr>\n",
              "      <th>4</th>\n",
              "      <td>Voice</td>\n",
              "      <td>14</td>\n",
              "      <td>2012-05-06 23:06:29.0</td>\n",
              "      <td>966ba4656e38e62</td>\n",
              "      <td>02aa736ee555d5c</td>\n",
              "      <td>051KhYDCpv</td>\n",
              "      <td>051KhYDCpv</td>\n",
              "    </tr>\n",
              "    <tr>\n",
              "      <th>...</th>\n",
              "      <td>...</td>\n",
              "      <td>...</td>\n",
              "      <td>...</td>\n",
              "      <td>...</td>\n",
              "      <td>...</td>\n",
              "      <td>...</td>\n",
              "      <td>...</td>\n",
              "    </tr>\n",
              "    <tr>\n",
              "      <th>4996</th>\n",
              "      <td>sms</td>\n",
              "      <td>100</td>\n",
              "      <td>2012-05-07 00:01:54.0</td>\n",
              "      <td>92e367d671f45c5</td>\n",
              "      <td>38811081cf82c90</td>\n",
              "      <td>0c2371d9bc</td>\n",
              "      <td>1e751d08a4</td>\n",
              "    </tr>\n",
              "    <tr>\n",
              "      <th>4997</th>\n",
              "      <td>Voice</td>\n",
              "      <td>1</td>\n",
              "      <td>2012-05-07 00:01:54.0</td>\n",
              "      <td>83b44b18238e602</td>\n",
              "      <td>6ec63d4aa5de5dd</td>\n",
              "      <td>5fb791cf56</td>\n",
              "      <td>65efe2bc62</td>\n",
              "    </tr>\n",
              "    <tr>\n",
              "      <th>4998</th>\n",
              "      <td>Voice</td>\n",
              "      <td>0</td>\n",
              "      <td>2012-05-07 00:01:54.0</td>\n",
              "      <td>49fae048b547780</td>\n",
              "      <td>1a49f8b0ded9de6</td>\n",
              "      <td>7773627c12</td>\n",
              "      <td>9ef9616350</td>\n",
              "    </tr>\n",
              "    <tr>\n",
              "      <th>4999</th>\n",
              "      <td>Voice</td>\n",
              "      <td>0</td>\n",
              "      <td>2012-05-07 00:01:54.0</td>\n",
              "      <td>a1613f1a992716a</td>\n",
              "      <td>bd663f07b6c8bcd</td>\n",
              "      <td>3f4af49d6c</td>\n",
              "      <td>969b8d0e39</td>\n",
              "    </tr>\n",
              "    <tr>\n",
              "      <th>5000</th>\n",
              "      <td>Voice</td>\n",
              "      <td>7</td>\n",
              "      <td>2012-05-07 00:01:54.0</td>\n",
              "      <td>1670a5f7c22f4ed</td>\n",
              "      <td>3600efd094f2225</td>\n",
              "      <td>6f4d9b77a5</td>\n",
              "      <td>ebfc58af70</td>\n",
              "    </tr>\n",
              "  </tbody>\n",
              "</table>\n",
              "<p>5001 rows × 7 columns</p>\n",
              "</div>"
            ],
            "text/plain": [
              "     PRODUCT  VALUE  ...     CELL_ID     SITE_ID\n",
              "0      Voice      0  ...  /TJNe+Mmtu  /TJNe+Mmtu\n",
              "1        sms      0  ...  /+cKZKIp41  /+cKZKIp41\n",
              "2        sms     25  ...  /u0FSD+ahi  /u0FSD+ahi\n",
              "3      Voice     56  ...  +cNeJzsTp3  +cNeJzsTp3\n",
              "4      Voice     14  ...  051KhYDCpv  051KhYDCpv\n",
              "...      ...    ...  ...         ...         ...\n",
              "4996     sms    100  ...  0c2371d9bc  1e751d08a4\n",
              "4997   Voice      1  ...  5fb791cf56  65efe2bc62\n",
              "4998   Voice      0  ...  7773627c12  9ef9616350\n",
              "4999   Voice      0  ...  3f4af49d6c  969b8d0e39\n",
              "5000   Voice      7  ...  6f4d9b77a5  ebfc58af70\n",
              "\n",
              "[5001 rows x 7 columns]"
            ]
          },
          "metadata": {
            "tags": []
          },
          "execution_count": 14
        }
      ]
    },
    {
      "cell_type": "markdown",
      "metadata": {
        "id": "LULpjV6nXIvk"
      },
      "source": [
        "Let's now output our newly named columns so as to see easily how our dataframes look without having to go all the way up to check what else might have been left out in the cleaning part and more-so our what we have renamed"
      ]
    },
    {
      "cell_type": "code",
      "metadata": {
        "colab": {
          "base_uri": "https://localhost:8080/"
        },
        "id": "5Tf4k664rhGS",
        "outputId": "592ce050-a3b4-42d5-eb05-e183d62e7ccb"
      },
      "source": [
        "# Let us output all our dataframes to look at how the column names compare\n",
        "\n",
        "print(\"Output for our first dataframe looks like this:\\n\")\n",
        "pd.set_option('display.max_columns', None)\n",
        "print(ds1_df.head(4))\n",
        "print(\"\")\n",
        "\n"
      ],
      "execution_count": 15,
      "outputs": [
        {
          "output_type": "stream",
          "text": [
            "Output for our first dataframe looks like this:\n",
            "\n",
            "  PRODUCT  VALUE              DATE_TIME  DW_A_NUMBER_INT  DW_B_NUMBER_INT  \\\n",
            "0   Voice      0  2012-05-06 23:04:37.0  49fae048b547780  1a49f8b0ded9de6   \n",
            "1     sms      0  2012-05-06 23:05:25.0  7a54a6eaee19e65  93343ba6e41af95   \n",
            "2     sms     25  2012-05-06 23:05:41.0  6008887b0207d82  7aacc9709ce0a20   \n",
            "3   Voice     56  2012-05-06 23:05:42.0  7370032e20f4e96  6af4a60e74c91d3   \n",
            "\n",
            "      CELL_ID     SITE_ID  \n",
            "0  /TJNe+Mmtu  /TJNe+Mmtu  \n",
            "1  /+cKZKIp41  /+cKZKIp41  \n",
            "2  /u0FSD+ahi  /u0FSD+ahi  \n",
            "3  +cNeJzsTp3  +cNeJzsTp3  \n",
            "\n"
          ],
          "name": "stdout"
        }
      ]
    },
    {
      "cell_type": "code",
      "metadata": {
        "colab": {
          "base_uri": "https://localhost:8080/"
        },
        "id": "8GzV2IDysxvt",
        "outputId": "54a32e58-28e4-4f23-f5f9-208f6cadf572"
      },
      "source": [
        "# Let us output all our dataframes to look at how the column names compare\n",
        "\n",
        "print(\"Output for our second dataframe looks like this:\\n\")\n",
        "pd.set_option('display.max_columns', None)\n",
        "print(ds2_df.head(4))\n",
        "print(\"\")\n",
        "\n"
      ],
      "execution_count": 16,
      "outputs": [
        {
          "output_type": "stream",
          "text": [
            "Output for our second dataframe looks like this:\n",
            "\n",
            "  PRODUCT  VALUE              DATE_TIME  DW_A_NUMBER_INT  DW_B_NUMBER_INT  \\\n",
            "0     sms      0  2012-05-07 23:02:06.0  32255675c3b6fe3  1aa7ae01386e9fb   \n",
            "1   Voice      0  2012-05-07 23:03:44.0  ff16d6ac74c1c64  87d87309c15a8c9   \n",
            "2     sms      0  2012-05-07 23:04:06.0  98d9f2fb5ff624b  93343ba6e41af95   \n",
            "3   Voice     37  2012-05-07 23:04:48.0  3f9c8a33ec7be1f  7d05a38f89c49d8   \n",
            "\n",
            "      CELL_ID     SITE_ID  \n",
            "0  +854AcBQT2  +854AcBQT2  \n",
            "1  +854AcBQT2  +854AcBQT2  \n",
            "2  +laSrk7g6q  +laSrk7g6q  \n",
            "3  /xvRrCVKoQ  /xvRrCVKoQ  \n",
            "\n"
          ],
          "name": "stdout"
        }
      ]
    },
    {
      "cell_type": "code",
      "metadata": {
        "colab": {
          "base_uri": "https://localhost:8080/"
        },
        "id": "fUjWB4OJsyRI",
        "outputId": "0c90924a-7363-4456-8e8e-66e0811bb1ee"
      },
      "source": [
        "# Let us output all our dataframes to look at how the column names compare\n",
        "\n",
        "print(\"Output for our third dataframe looks like this:\\n\")\n",
        "pd.set_option('display.max_columns', None)\n",
        "print(ds3_df.head(4))\n",
        "print(\"\")"
      ],
      "execution_count": 17,
      "outputs": [
        {
          "output_type": "stream",
          "text": [
            "Output for our third dataframe looks like this:\n",
            "\n",
            "  PRODUCT  VALUE              DATE_TIME  DW_A_NUMBER_INT  DW_B_NUMBER_INT  \\\n",
            "0   Voice     61  2012-05-08 23:01:28.0  966f68353622feb  ffd53a3bb2db6f1   \n",
            "1     sms      0  2012-05-08 23:01:31.0  a0a597384c612d7  cf3b218f1dde792   \n",
            "2   Voice     10  2012-05-08 23:02:59.0  5441a9a58c97132  52f8b299515b9b7   \n",
            "3     sms      0  2012-05-08 23:03:04.0  8ab8b9ed6989f61  e09e736e46c5c3d   \n",
            "\n",
            "      CELL_ID     SITE_ID  \n",
            "0  +38u2u/rfx  +38u2u/rfx  \n",
            "1  +Fs4mTvdKx  +Fs4mTvdKx  \n",
            "2  +ZaaZozy/+  +ZaaZozy/+  \n",
            "3  +cNeJzsTp3  +cNeJzsTp3  \n",
            "\n"
          ],
          "name": "stdout"
        }
      ]
    },
    {
      "cell_type": "markdown",
      "metadata": {
        "id": "oEsduFk8yqLm"
      },
      "source": [
        "**Looking and dropping the duplicate values**"
      ]
    },
    {
      "cell_type": "code",
      "metadata": {
        "colab": {
          "base_uri": "https://localhost:8080/"
        },
        "id": "bsQie_Tixd-s",
        "outputId": "5d6f74d1-c350-4851-9d4c-04bd315cfc42"
      },
      "source": [
        "# Our data is very likely to have duplicates. An important part of data analysis \n",
        "# is analyzing duplicate Values and removing them. \n",
        "# It is important to do away with these duplicates before we can start \n",
        "# analysing our data.\n",
        "\n",
        "ds1_df.duplicated().value_counts()"
      ],
      "execution_count": 18,
      "outputs": [
        {
          "output_type": "execute_result",
          "data": {
            "text/plain": [
              "False    4919\n",
              "True       82\n",
              "dtype: int64"
            ]
          },
          "metadata": {
            "tags": []
          },
          "execution_count": 18
        }
      ]
    },
    {
      "cell_type": "code",
      "metadata": {
        "colab": {
          "base_uri": "https://localhost:8080/"
        },
        "id": "sA39z2GR15fl",
        "outputId": "58c86acd-250a-4de3-e12b-37c8167c4684"
      },
      "source": [
        "# We do the same for our 2nd dataset\n",
        "ds2_df.duplicated().value_counts()"
      ],
      "execution_count": 19,
      "outputs": [
        {
          "output_type": "execute_result",
          "data": {
            "text/plain": [
              "False    4923\n",
              "True       78\n",
              "dtype: int64"
            ]
          },
          "metadata": {
            "tags": []
          },
          "execution_count": 19
        }
      ]
    },
    {
      "cell_type": "code",
      "metadata": {
        "colab": {
          "base_uri": "https://localhost:8080/"
        },
        "id": "QUUeUPZH2JZQ",
        "outputId": "ecf54158-3b1e-416f-bb68-bf490d663ecb"
      },
      "source": [
        "# \n",
        "ds3_df.duplicated().value_counts()"
      ],
      "execution_count": 20,
      "outputs": [
        {
          "output_type": "execute_result",
          "data": {
            "text/plain": [
              "False    4908\n",
              "True       93\n",
              "dtype: int64"
            ]
          },
          "metadata": {
            "tags": []
          },
          "execution_count": 20
        }
      ]
    },
    {
      "cell_type": "code",
      "metadata": {
        "colab": {
          "base_uri": "https://localhost:8080/"
        },
        "id": "rDD5DDE4WWz-",
        "outputId": "d1a02b9d-e263-426a-912a-b842ea3b0646"
      },
      "source": [
        "cells_df.duplicated().value_counts()"
      ],
      "execution_count": 21,
      "outputs": [
        {
          "output_type": "execute_result",
          "data": {
            "text/plain": [
              "False    3931\n",
              "True       43\n",
              "dtype: int64"
            ]
          },
          "metadata": {
            "tags": []
          },
          "execution_count": 21
        }
      ]
    },
    {
      "cell_type": "code",
      "metadata": {
        "id": "UD-Lv9T8ViN6"
      },
      "source": [
        "ds1_df.drop_duplicates(inplace=True)"
      ],
      "execution_count": 22,
      "outputs": []
    },
    {
      "cell_type": "code",
      "metadata": {
        "id": "CiBTS2fEVjCT"
      },
      "source": [
        "ds2_df.drop_duplicates(inplace=True)"
      ],
      "execution_count": 23,
      "outputs": []
    },
    {
      "cell_type": "code",
      "metadata": {
        "id": "cFzW6-0wVjc6"
      },
      "source": [
        "ds3_df.drop_duplicates(inplace=True)"
      ],
      "execution_count": 24,
      "outputs": []
    },
    {
      "cell_type": "code",
      "metadata": {
        "id": "GWJ2PZRxWvZO"
      },
      "source": [
        "cells_df.drop_duplicates(inplace=True)"
      ],
      "execution_count": 25,
      "outputs": []
    },
    {
      "cell_type": "markdown",
      "metadata": {
        "id": "63AsscZqIorr"
      },
      "source": [
        "**Dealing with null values in the data.**"
      ]
    },
    {
      "cell_type": "code",
      "metadata": {
        "colab": {
          "base_uri": "https://localhost:8080/"
        },
        "id": "Xr2Ps6YQIuzO",
        "outputId": "74a2d96c-be07-486f-8846-633ce19734db"
      },
      "source": [
        "# Lets check to see whether we have null values in our cells_geo dataset\n",
        "\n",
        "cells_df.isnull().sum().sort_values()"
      ],
      "execution_count": 26,
      "outputs": [
        {
          "output_type": "execute_result",
          "data": {
            "text/plain": [
              "VILLES           0\n",
              "LOCALISATION     0\n",
              "DECOUPZONE       0\n",
              "LONGITUDE        0\n",
              "LATITUDE         0\n",
              "REGION           0\n",
              "CELL_ID          0\n",
              "SITE_CODE        0\n",
              "ZONENAME         6\n",
              "AREA            23\n",
              "STATUS          41\n",
              "dtype: int64"
            ]
          },
          "metadata": {
            "tags": []
          },
          "execution_count": 26
        }
      ]
    },
    {
      "cell_type": "code",
      "metadata": {
        "colab": {
          "base_uri": "https://localhost:8080/"
        },
        "id": "nqcdWsexUsGl",
        "outputId": "bf421a1e-e239-4e81-bcfa-1d1857d64e2b"
      },
      "source": [
        "# Lets check to see whether we have null values in our first dataset\n",
        "\n",
        "ds1_df.isnull().sum().sort_values()"
      ],
      "execution_count": 27,
      "outputs": [
        {
          "output_type": "execute_result",
          "data": {
            "text/plain": [
              "PRODUCT              0\n",
              "VALUE                0\n",
              "DATE_TIME            0\n",
              "DW_A_NUMBER_INT      0\n",
              "DW_B_NUMBER_INT      0\n",
              "CELL_ID              0\n",
              "SITE_ID            704\n",
              "dtype: int64"
            ]
          },
          "metadata": {
            "tags": []
          },
          "execution_count": 27
        }
      ]
    },
    {
      "cell_type": "code",
      "metadata": {
        "colab": {
          "base_uri": "https://localhost:8080/"
        },
        "id": "K_lhqVrEUwEW",
        "outputId": "1a1ad8bf-6ac6-4179-977a-15cb161a4d9b"
      },
      "source": [
        "# Lets check to see whether we have null values in our second dataset\n",
        "\n",
        "ds2_df.isnull().sum().sort_values()"
      ],
      "execution_count": 28,
      "outputs": [
        {
          "output_type": "execute_result",
          "data": {
            "text/plain": [
              "PRODUCT              0\n",
              "VALUE                0\n",
              "DATE_TIME            0\n",
              "DW_A_NUMBER_INT      0\n",
              "DW_B_NUMBER_INT      0\n",
              "CELL_ID              0\n",
              "SITE_ID            660\n",
              "dtype: int64"
            ]
          },
          "metadata": {
            "tags": []
          },
          "execution_count": 28
        }
      ]
    },
    {
      "cell_type": "code",
      "metadata": {
        "colab": {
          "base_uri": "https://localhost:8080/"
        },
        "id": "B_OV-KxjU4V7",
        "outputId": "c54f8a03-58c9-4ca4-ad08-7469bd3ea97f"
      },
      "source": [
        "# Lets check to see whether we have null values in our third dataset\n",
        "\n",
        "ds3_df.isnull().sum().sort_values()"
      ],
      "execution_count": 29,
      "outputs": [
        {
          "output_type": "execute_result",
          "data": {
            "text/plain": [
              "PRODUCT              0\n",
              "VALUE                0\n",
              "DATE_TIME            0\n",
              "DW_A_NUMBER_INT      0\n",
              "DW_B_NUMBER_INT      0\n",
              "CELL_ID              0\n",
              "SITE_ID            597\n",
              "dtype: int64"
            ]
          },
          "metadata": {
            "tags": []
          },
          "execution_count": 29
        }
      ]
    },
    {
      "cell_type": "markdown",
      "metadata": {
        "id": "Ft9EQGSoZz9X"
      },
      "source": [
        "#1.4 Merging the dataframes"
      ]
    },
    {
      "cell_type": "code",
      "metadata": {
        "colab": {
          "base_uri": "https://localhost:8080/"
        },
        "id": "UhaweAHXZ450",
        "outputId": "67ca65cf-d69c-465d-b797-9db962b706e9"
      },
      "source": [
        "telecom_df = pd.concat([ds1_df, ds2_df, ds3_df], axis=0)\n",
        "telecom_df.shape"
      ],
      "execution_count": 30,
      "outputs": [
        {
          "output_type": "execute_result",
          "data": {
            "text/plain": [
              "(14750, 7)"
            ]
          },
          "metadata": {
            "tags": []
          },
          "execution_count": 30
        }
      ]
    },
    {
      "cell_type": "code",
      "metadata": {
        "colab": {
          "base_uri": "https://localhost:8080/",
          "height": 204
        },
        "id": "Yd5xL86oa0Vp",
        "outputId": "5b8c74d3-6341-4f6d-e755-e0dda6d2ee3f"
      },
      "source": [
        "telecom_df.head()"
      ],
      "execution_count": 31,
      "outputs": [
        {
          "output_type": "execute_result",
          "data": {
            "text/html": [
              "<div>\n",
              "<style scoped>\n",
              "    .dataframe tbody tr th:only-of-type {\n",
              "        vertical-align: middle;\n",
              "    }\n",
              "\n",
              "    .dataframe tbody tr th {\n",
              "        vertical-align: top;\n",
              "    }\n",
              "\n",
              "    .dataframe thead th {\n",
              "        text-align: right;\n",
              "    }\n",
              "</style>\n",
              "<table border=\"1\" class=\"dataframe\">\n",
              "  <thead>\n",
              "    <tr style=\"text-align: right;\">\n",
              "      <th></th>\n",
              "      <th>PRODUCT</th>\n",
              "      <th>VALUE</th>\n",
              "      <th>DATE_TIME</th>\n",
              "      <th>DW_A_NUMBER_INT</th>\n",
              "      <th>DW_B_NUMBER_INT</th>\n",
              "      <th>CELL_ID</th>\n",
              "      <th>SITE_ID</th>\n",
              "    </tr>\n",
              "  </thead>\n",
              "  <tbody>\n",
              "    <tr>\n",
              "      <th>0</th>\n",
              "      <td>Voice</td>\n",
              "      <td>0</td>\n",
              "      <td>2012-05-06 23:04:37.0</td>\n",
              "      <td>49fae048b547780</td>\n",
              "      <td>1a49f8b0ded9de6</td>\n",
              "      <td>/TJNe+Mmtu</td>\n",
              "      <td>/TJNe+Mmtu</td>\n",
              "    </tr>\n",
              "    <tr>\n",
              "      <th>1</th>\n",
              "      <td>sms</td>\n",
              "      <td>0</td>\n",
              "      <td>2012-05-06 23:05:25.0</td>\n",
              "      <td>7a54a6eaee19e65</td>\n",
              "      <td>93343ba6e41af95</td>\n",
              "      <td>/+cKZKIp41</td>\n",
              "      <td>/+cKZKIp41</td>\n",
              "    </tr>\n",
              "    <tr>\n",
              "      <th>2</th>\n",
              "      <td>sms</td>\n",
              "      <td>25</td>\n",
              "      <td>2012-05-06 23:05:41.0</td>\n",
              "      <td>6008887b0207d82</td>\n",
              "      <td>7aacc9709ce0a20</td>\n",
              "      <td>/u0FSD+ahi</td>\n",
              "      <td>/u0FSD+ahi</td>\n",
              "    </tr>\n",
              "    <tr>\n",
              "      <th>3</th>\n",
              "      <td>Voice</td>\n",
              "      <td>56</td>\n",
              "      <td>2012-05-06 23:05:42.0</td>\n",
              "      <td>7370032e20f4e96</td>\n",
              "      <td>6af4a60e74c91d3</td>\n",
              "      <td>+cNeJzsTp3</td>\n",
              "      <td>+cNeJzsTp3</td>\n",
              "    </tr>\n",
              "    <tr>\n",
              "      <th>4</th>\n",
              "      <td>Voice</td>\n",
              "      <td>14</td>\n",
              "      <td>2012-05-06 23:06:29.0</td>\n",
              "      <td>966ba4656e38e62</td>\n",
              "      <td>02aa736ee555d5c</td>\n",
              "      <td>051KhYDCpv</td>\n",
              "      <td>051KhYDCpv</td>\n",
              "    </tr>\n",
              "  </tbody>\n",
              "</table>\n",
              "</div>"
            ],
            "text/plain": [
              "  PRODUCT  VALUE              DATE_TIME  DW_A_NUMBER_INT  DW_B_NUMBER_INT  \\\n",
              "0   Voice      0  2012-05-06 23:04:37.0  49fae048b547780  1a49f8b0ded9de6   \n",
              "1     sms      0  2012-05-06 23:05:25.0  7a54a6eaee19e65  93343ba6e41af95   \n",
              "2     sms     25  2012-05-06 23:05:41.0  6008887b0207d82  7aacc9709ce0a20   \n",
              "3   Voice     56  2012-05-06 23:05:42.0  7370032e20f4e96  6af4a60e74c91d3   \n",
              "4   Voice     14  2012-05-06 23:06:29.0  966ba4656e38e62  02aa736ee555d5c   \n",
              "\n",
              "      CELL_ID     SITE_ID  \n",
              "0  /TJNe+Mmtu  /TJNe+Mmtu  \n",
              "1  /+cKZKIp41  /+cKZKIp41  \n",
              "2  /u0FSD+ahi  /u0FSD+ahi  \n",
              "3  +cNeJzsTp3  +cNeJzsTp3  \n",
              "4  051KhYDCpv  051KhYDCpv  "
            ]
          },
          "metadata": {
            "tags": []
          },
          "execution_count": 31
        }
      ]
    },
    {
      "cell_type": "code",
      "metadata": {
        "colab": {
          "base_uri": "https://localhost:8080/",
          "height": 779
        },
        "id": "_MpiuYOFdW6I",
        "outputId": "5a69defa-8f50-4d26-cca1-71e26daaf6a9"
      },
      "source": [
        "mtn = pd.merge(telecom_df, cells_df, how='inner', left_on=['SITE_ID'], right_on=['SITE_CODE'])\n",
        "mtn"
      ],
      "execution_count": 32,
      "outputs": [
        {
          "output_type": "execute_result",
          "data": {
            "text/html": [
              "<div>\n",
              "<style scoped>\n",
              "    .dataframe tbody tr th:only-of-type {\n",
              "        vertical-align: middle;\n",
              "    }\n",
              "\n",
              "    .dataframe tbody tr th {\n",
              "        vertical-align: top;\n",
              "    }\n",
              "\n",
              "    .dataframe thead th {\n",
              "        text-align: right;\n",
              "    }\n",
              "</style>\n",
              "<table border=\"1\" class=\"dataframe\">\n",
              "  <thead>\n",
              "    <tr style=\"text-align: right;\">\n",
              "      <th></th>\n",
              "      <th>PRODUCT</th>\n",
              "      <th>VALUE</th>\n",
              "      <th>DATE_TIME</th>\n",
              "      <th>DW_A_NUMBER_INT</th>\n",
              "      <th>DW_B_NUMBER_INT</th>\n",
              "      <th>CELL_ID_x</th>\n",
              "      <th>SITE_ID</th>\n",
              "      <th>VILLES</th>\n",
              "      <th>STATUS</th>\n",
              "      <th>LOCALISATION</th>\n",
              "      <th>DECOUPZONE</th>\n",
              "      <th>ZONENAME</th>\n",
              "      <th>LONGITUDE</th>\n",
              "      <th>LATITUDE</th>\n",
              "      <th>REGION</th>\n",
              "      <th>AREA</th>\n",
              "      <th>CELL_ID_y</th>\n",
              "      <th>SITE_CODE</th>\n",
              "    </tr>\n",
              "  </thead>\n",
              "  <tbody>\n",
              "    <tr>\n",
              "      <th>0</th>\n",
              "      <td>sms</td>\n",
              "      <td>0</td>\n",
              "      <td>2012-05-07 00:00:00.0</td>\n",
              "      <td>8118c3aa53d6c7b</td>\n",
              "      <td>1d103ea638ad1f0</td>\n",
              "      <td>5d9dc897f7</td>\n",
              "      <td>1b5540c02d</td>\n",
              "      <td>BOUAKE</td>\n",
              "      <td>In Service</td>\n",
              "      <td>INTERIEUR</td>\n",
              "      <td>Grand-NORD</td>\n",
              "      <td>ZONE A - Grand-NORD</td>\n",
              "      <td>-5.027139</td>\n",
              "      <td>7.718417</td>\n",
              "      <td>VALLEE DU BANDAMA</td>\n",
              "      <td>CENTRE NORTH</td>\n",
              "      <td>24ccdda3d5</td>\n",
              "      <td>1b5540c02d</td>\n",
              "    </tr>\n",
              "    <tr>\n",
              "      <th>1</th>\n",
              "      <td>sms</td>\n",
              "      <td>0</td>\n",
              "      <td>2012-05-07 00:00:00.0</td>\n",
              "      <td>8118c3aa53d6c7b</td>\n",
              "      <td>1d103ea638ad1f0</td>\n",
              "      <td>5d9dc897f7</td>\n",
              "      <td>1b5540c02d</td>\n",
              "      <td>BOUAKE</td>\n",
              "      <td>In Service</td>\n",
              "      <td>INTERIEUR</td>\n",
              "      <td>Grand-NORD</td>\n",
              "      <td>ZONE A - Grand-NORD</td>\n",
              "      <td>-5.027139</td>\n",
              "      <td>7.718417</td>\n",
              "      <td>VALLEE DU BANDAMA</td>\n",
              "      <td>CENTRE NORTH</td>\n",
              "      <td>ebfc58af70</td>\n",
              "      <td>1b5540c02d</td>\n",
              "    </tr>\n",
              "    <tr>\n",
              "      <th>2</th>\n",
              "      <td>sms</td>\n",
              "      <td>0</td>\n",
              "      <td>2012-05-07 00:00:00.0</td>\n",
              "      <td>8118c3aa53d6c7b</td>\n",
              "      <td>1d103ea638ad1f0</td>\n",
              "      <td>5d9dc897f7</td>\n",
              "      <td>1b5540c02d</td>\n",
              "      <td>BOUAKE</td>\n",
              "      <td>In Service</td>\n",
              "      <td>INTERIEUR</td>\n",
              "      <td>Grand-NORD</td>\n",
              "      <td>ZONE A - Grand-NORD</td>\n",
              "      <td>-5.027139</td>\n",
              "      <td>7.718417</td>\n",
              "      <td>VALLEE DU BANDAMA</td>\n",
              "      <td>CENTRE NORTH</td>\n",
              "      <td>ba8ce6e4ef</td>\n",
              "      <td>1b5540c02d</td>\n",
              "    </tr>\n",
              "    <tr>\n",
              "      <th>3</th>\n",
              "      <td>sms</td>\n",
              "      <td>0</td>\n",
              "      <td>2012-05-07 00:00:00.0</td>\n",
              "      <td>8118c3aa53d6c7b</td>\n",
              "      <td>1d103ea638ad1f0</td>\n",
              "      <td>5d9dc897f7</td>\n",
              "      <td>1b5540c02d</td>\n",
              "      <td>BOUAKE</td>\n",
              "      <td>In Service</td>\n",
              "      <td>INTERIEUR</td>\n",
              "      <td>Grand-NORD</td>\n",
              "      <td>ZONE A - Grand-NORD</td>\n",
              "      <td>-5.027139</td>\n",
              "      <td>7.718417</td>\n",
              "      <td>VALLEE DU BANDAMA</td>\n",
              "      <td>CENTRE NORTH</td>\n",
              "      <td>c2545171dc</td>\n",
              "      <td>1b5540c02d</td>\n",
              "    </tr>\n",
              "    <tr>\n",
              "      <th>4</th>\n",
              "      <td>sms</td>\n",
              "      <td>0</td>\n",
              "      <td>2012-05-07 00:00:00.0</td>\n",
              "      <td>8118c3aa53d6c7b</td>\n",
              "      <td>1d103ea638ad1f0</td>\n",
              "      <td>5d9dc897f7</td>\n",
              "      <td>1b5540c02d</td>\n",
              "      <td>BOUAKE</td>\n",
              "      <td>In Service</td>\n",
              "      <td>INTERIEUR</td>\n",
              "      <td>Grand-NORD</td>\n",
              "      <td>ZONE A - Grand-NORD</td>\n",
              "      <td>-5.027139</td>\n",
              "      <td>7.718417</td>\n",
              "      <td>VALLEE DU BANDAMA</td>\n",
              "      <td>CENTRE NORTH</td>\n",
              "      <td>f15bd5483f</td>\n",
              "      <td>1b5540c02d</td>\n",
              "    </tr>\n",
              "    <tr>\n",
              "      <th>...</th>\n",
              "      <td>...</td>\n",
              "      <td>...</td>\n",
              "      <td>...</td>\n",
              "      <td>...</td>\n",
              "      <td>...</td>\n",
              "      <td>...</td>\n",
              "      <td>...</td>\n",
              "      <td>...</td>\n",
              "      <td>...</td>\n",
              "      <td>...</td>\n",
              "      <td>...</td>\n",
              "      <td>...</td>\n",
              "      <td>...</td>\n",
              "      <td>...</td>\n",
              "      <td>...</td>\n",
              "      <td>...</td>\n",
              "      <td>...</td>\n",
              "      <td>...</td>\n",
              "    </tr>\n",
              "    <tr>\n",
              "      <th>49697</th>\n",
              "      <td>Voice</td>\n",
              "      <td>17</td>\n",
              "      <td>2012-05-09 00:01:42.0</td>\n",
              "      <td>22e493a92442b73</td>\n",
              "      <td>c9e2c9c2fa3795a</td>\n",
              "      <td>2f50f4a1fb</td>\n",
              "      <td>cc45940406</td>\n",
              "      <td>ADJAME</td>\n",
              "      <td>In Service</td>\n",
              "      <td>ABIDJAN</td>\n",
              "      <td>Abidjan_CENTRE</td>\n",
              "      <td>ZONE B - Abidjan_CENTRE</td>\n",
              "      <td>-4.023247</td>\n",
              "      <td>5.349442</td>\n",
              "      <td>LAGUNE</td>\n",
              "      <td>ABIDJAN NORTH</td>\n",
              "      <td>c179f33d5e</td>\n",
              "      <td>cc45940406</td>\n",
              "    </tr>\n",
              "    <tr>\n",
              "      <th>49698</th>\n",
              "      <td>Voice</td>\n",
              "      <td>17</td>\n",
              "      <td>2012-05-09 00:01:42.0</td>\n",
              "      <td>22e493a92442b73</td>\n",
              "      <td>c9e2c9c2fa3795a</td>\n",
              "      <td>2f50f4a1fb</td>\n",
              "      <td>cc45940406</td>\n",
              "      <td>ADJAME</td>\n",
              "      <td>In Service</td>\n",
              "      <td>ABIDJAN</td>\n",
              "      <td>Abidjan_CENTRE</td>\n",
              "      <td>ZONE B - Abidjan_CENTRE</td>\n",
              "      <td>-4.023247</td>\n",
              "      <td>5.349442</td>\n",
              "      <td>LAGUNE</td>\n",
              "      <td>ABIDJAN NORTH</td>\n",
              "      <td>0a3f751619</td>\n",
              "      <td>cc45940406</td>\n",
              "    </tr>\n",
              "    <tr>\n",
              "      <th>49699</th>\n",
              "      <td>sms</td>\n",
              "      <td>0</td>\n",
              "      <td>2012-05-09 00:01:43.0</td>\n",
              "      <td>32e2e7c90a9b0e9</td>\n",
              "      <td>32e2e7c90a9b0e9</td>\n",
              "      <td>25c671778e</td>\n",
              "      <td>ab91f5b21d</td>\n",
              "      <td>DIABO</td>\n",
              "      <td>In Service</td>\n",
              "      <td>INTERIEUR</td>\n",
              "      <td>Grand-NORD</td>\n",
              "      <td>ZONE A - Grand-NORD</td>\n",
              "      <td>-5.171778</td>\n",
              "      <td>7.777056</td>\n",
              "      <td>VALLEE DU BANDAMA</td>\n",
              "      <td>CENTRE NORTH</td>\n",
              "      <td>0427a26d34</td>\n",
              "      <td>ab91f5b21d</td>\n",
              "    </tr>\n",
              "    <tr>\n",
              "      <th>49700</th>\n",
              "      <td>sms</td>\n",
              "      <td>0</td>\n",
              "      <td>2012-05-09 00:01:43.0</td>\n",
              "      <td>32e2e7c90a9b0e9</td>\n",
              "      <td>32e2e7c90a9b0e9</td>\n",
              "      <td>25c671778e</td>\n",
              "      <td>ab91f5b21d</td>\n",
              "      <td>DIABO</td>\n",
              "      <td>In Service</td>\n",
              "      <td>INTERIEUR</td>\n",
              "      <td>Grand-NORD</td>\n",
              "      <td>ZONE A - Grand-NORD</td>\n",
              "      <td>-5.171778</td>\n",
              "      <td>7.777056</td>\n",
              "      <td>VALLEE DU BANDAMA</td>\n",
              "      <td>CENTRE NORTH</td>\n",
              "      <td>7c72293cf2</td>\n",
              "      <td>ab91f5b21d</td>\n",
              "    </tr>\n",
              "    <tr>\n",
              "      <th>49701</th>\n",
              "      <td>sms</td>\n",
              "      <td>0</td>\n",
              "      <td>2012-05-09 00:01:43.0</td>\n",
              "      <td>32e2e7c90a9b0e9</td>\n",
              "      <td>32e2e7c90a9b0e9</td>\n",
              "      <td>25c671778e</td>\n",
              "      <td>ab91f5b21d</td>\n",
              "      <td>DIABO</td>\n",
              "      <td>In Service</td>\n",
              "      <td>INTERIEUR</td>\n",
              "      <td>Grand-NORD</td>\n",
              "      <td>ZONE A - Grand-NORD</td>\n",
              "      <td>-5.171778</td>\n",
              "      <td>7.777056</td>\n",
              "      <td>VALLEE DU BANDAMA</td>\n",
              "      <td>CENTRE NORTH</td>\n",
              "      <td>be18b5b981</td>\n",
              "      <td>ab91f5b21d</td>\n",
              "    </tr>\n",
              "  </tbody>\n",
              "</table>\n",
              "<p>49702 rows × 18 columns</p>\n",
              "</div>"
            ],
            "text/plain": [
              "      PRODUCT  VALUE              DATE_TIME  DW_A_NUMBER_INT  DW_B_NUMBER_INT  \\\n",
              "0         sms      0  2012-05-07 00:00:00.0  8118c3aa53d6c7b  1d103ea638ad1f0   \n",
              "1         sms      0  2012-05-07 00:00:00.0  8118c3aa53d6c7b  1d103ea638ad1f0   \n",
              "2         sms      0  2012-05-07 00:00:00.0  8118c3aa53d6c7b  1d103ea638ad1f0   \n",
              "3         sms      0  2012-05-07 00:00:00.0  8118c3aa53d6c7b  1d103ea638ad1f0   \n",
              "4         sms      0  2012-05-07 00:00:00.0  8118c3aa53d6c7b  1d103ea638ad1f0   \n",
              "...       ...    ...                    ...              ...              ...   \n",
              "49697   Voice     17  2012-05-09 00:01:42.0  22e493a92442b73  c9e2c9c2fa3795a   \n",
              "49698   Voice     17  2012-05-09 00:01:42.0  22e493a92442b73  c9e2c9c2fa3795a   \n",
              "49699     sms      0  2012-05-09 00:01:43.0  32e2e7c90a9b0e9  32e2e7c90a9b0e9   \n",
              "49700     sms      0  2012-05-09 00:01:43.0  32e2e7c90a9b0e9  32e2e7c90a9b0e9   \n",
              "49701     sms      0  2012-05-09 00:01:43.0  32e2e7c90a9b0e9  32e2e7c90a9b0e9   \n",
              "\n",
              "        CELL_ID_x     SITE_ID  VILLES      STATUS LOCALISATION  \\\n",
              "0      5d9dc897f7  1b5540c02d  BOUAKE  In Service    INTERIEUR   \n",
              "1      5d9dc897f7  1b5540c02d  BOUAKE  In Service    INTERIEUR   \n",
              "2      5d9dc897f7  1b5540c02d  BOUAKE  In Service    INTERIEUR   \n",
              "3      5d9dc897f7  1b5540c02d  BOUAKE  In Service    INTERIEUR   \n",
              "4      5d9dc897f7  1b5540c02d  BOUAKE  In Service    INTERIEUR   \n",
              "...           ...         ...     ...         ...          ...   \n",
              "49697  2f50f4a1fb  cc45940406  ADJAME  In Service      ABIDJAN   \n",
              "49698  2f50f4a1fb  cc45940406  ADJAME  In Service      ABIDJAN   \n",
              "49699  25c671778e  ab91f5b21d   DIABO  In Service    INTERIEUR   \n",
              "49700  25c671778e  ab91f5b21d   DIABO  In Service    INTERIEUR   \n",
              "49701  25c671778e  ab91f5b21d   DIABO  In Service    INTERIEUR   \n",
              "\n",
              "           DECOUPZONE                 ZONENAME  LONGITUDE  LATITUDE  \\\n",
              "0          Grand-NORD      ZONE A - Grand-NORD  -5.027139  7.718417   \n",
              "1          Grand-NORD      ZONE A - Grand-NORD  -5.027139  7.718417   \n",
              "2          Grand-NORD      ZONE A - Grand-NORD  -5.027139  7.718417   \n",
              "3          Grand-NORD      ZONE A - Grand-NORD  -5.027139  7.718417   \n",
              "4          Grand-NORD      ZONE A - Grand-NORD  -5.027139  7.718417   \n",
              "...               ...                      ...        ...       ...   \n",
              "49697  Abidjan_CENTRE  ZONE B - Abidjan_CENTRE  -4.023247  5.349442   \n",
              "49698  Abidjan_CENTRE  ZONE B - Abidjan_CENTRE  -4.023247  5.349442   \n",
              "49699      Grand-NORD      ZONE A - Grand-NORD  -5.171778  7.777056   \n",
              "49700      Grand-NORD      ZONE A - Grand-NORD  -5.171778  7.777056   \n",
              "49701      Grand-NORD      ZONE A - Grand-NORD  -5.171778  7.777056   \n",
              "\n",
              "                  REGION           AREA   CELL_ID_y   SITE_CODE  \n",
              "0      VALLEE DU BANDAMA   CENTRE NORTH  24ccdda3d5  1b5540c02d  \n",
              "1      VALLEE DU BANDAMA   CENTRE NORTH  ebfc58af70  1b5540c02d  \n",
              "2      VALLEE DU BANDAMA   CENTRE NORTH  ba8ce6e4ef  1b5540c02d  \n",
              "3      VALLEE DU BANDAMA   CENTRE NORTH  c2545171dc  1b5540c02d  \n",
              "4      VALLEE DU BANDAMA   CENTRE NORTH  f15bd5483f  1b5540c02d  \n",
              "...                  ...            ...         ...         ...  \n",
              "49697             LAGUNE  ABIDJAN NORTH  c179f33d5e  cc45940406  \n",
              "49698             LAGUNE  ABIDJAN NORTH  0a3f751619  cc45940406  \n",
              "49699  VALLEE DU BANDAMA   CENTRE NORTH  0427a26d34  ab91f5b21d  \n",
              "49700  VALLEE DU BANDAMA   CENTRE NORTH  7c72293cf2  ab91f5b21d  \n",
              "49701  VALLEE DU BANDAMA   CENTRE NORTH  be18b5b981  ab91f5b21d  \n",
              "\n",
              "[49702 rows x 18 columns]"
            ]
          },
          "metadata": {
            "tags": []
          },
          "execution_count": 32
        }
      ]
    },
    {
      "cell_type": "code",
      "metadata": {
        "colab": {
          "base_uri": "https://localhost:8080/"
        },
        "id": "uYZ7fIuQd_Mh",
        "outputId": "2698c8f3-d688-4c4f-fdb2-9af1372134bb"
      },
      "source": [
        "mtn.isnull().sum()"
      ],
      "execution_count": 33,
      "outputs": [
        {
          "output_type": "execute_result",
          "data": {
            "text/plain": [
              "PRODUCT              0\n",
              "VALUE                0\n",
              "DATE_TIME            0\n",
              "DW_A_NUMBER_INT      0\n",
              "DW_B_NUMBER_INT      0\n",
              "CELL_ID_x            0\n",
              "SITE_ID              0\n",
              "VILLES               0\n",
              "STATUS             677\n",
              "LOCALISATION         0\n",
              "DECOUPZONE           0\n",
              "ZONENAME            18\n",
              "LONGITUDE            0\n",
              "LATITUDE             0\n",
              "REGION               0\n",
              "AREA               256\n",
              "CELL_ID_y            0\n",
              "SITE_CODE            0\n",
              "dtype: int64"
            ]
          },
          "metadata": {
            "tags": []
          },
          "execution_count": 33
        }
      ]
    },
    {
      "cell_type": "markdown",
      "metadata": {
        "id": "aQum7d9wige4"
      },
      "source": [
        "# Analysis"
      ]
    },
    {
      "cell_type": "code",
      "metadata": {
        "colab": {
          "base_uri": "https://localhost:8080/"
        },
        "id": "ZGUtVrPaihBF",
        "outputId": "b88ceba2-e760-4242-b4b0-cdfb86bc8875"
      },
      "source": [
        "# Lets look at the traffic in regions so that we can later on be able to find \n",
        "# what cities are the most active\n",
        "\n",
        "traffic = mtn['REGION'].value_counts()\n",
        "traffic[0:10]"
      ],
      "execution_count": 64,
      "outputs": [
        {
          "output_type": "execute_result",
          "data": {
            "text/plain": [
              "LAGUNE               32547\n",
              "LACS                  2408\n",
              "BAS SASSANDRA         2327\n",
              "HAUT SASSANDRA        2277\n",
              "VALLEE DU BANDAMA     1551\n",
              "SUD BANDAMA           1518\n",
              "SAVANE                 980\n",
              "FROMAGER               904\n",
              "WORODOUGOU             792\n",
              "18 MONTAGNES           765\n",
              "Name: REGION, dtype: int64"
            ]
          },
          "metadata": {
            "tags": []
          },
          "execution_count": 64
        }
      ]
    },
    {
      "cell_type": "code",
      "metadata": {
        "colab": {
          "base_uri": "https://localhost:8080/"
        },
        "id": "SEfRWG9tik8u",
        "outputId": "f4464482-4a0f-4a22-f4bb-cb34aecd6ffe"
      },
      "source": [
        "# Get the zones with the most traffic\n",
        "mtn['ZONENAME'].value_counts()"
      ],
      "execution_count": 36,
      "outputs": [
        {
          "output_type": "execute_result",
          "data": {
            "text/plain": [
              "ZONE C - Abidjan_OUEST     10296\n",
              "ZONE E - Abidjan_NORD       6660\n",
              "ZONE B - Grand-SUD          5545\n",
              "ZONE B - Abidjan_EST        4838\n",
              "ZONE D - Abidjan_SUD        4642\n",
              "ZONE D - Grand-OUEST        4314\n",
              "ZONE A - Abidjan_CENTRE     4132\n",
              "ZONE A - Grand-NORD         3928\n",
              "ZONE E - SUD-OUEST          2993\n",
              "ZONE C - Grand-EST          1748\n",
              "ZONE D - Abidjan_EST         186\n",
              "OKAHOTEL                     120\n",
              "NPONON                        72\n",
              "WILLIAMSVILLE2                40\n",
              "ZONE C - Abidjan_EST          27\n",
              "ZONE A - Abidjan_OUEST        21\n",
              "PALMABINGERVILLE              21\n",
              "ZONE B - Abidjan_OUEST        18\n",
              "ZONE A - Grand-SUD            18\n",
              "ZONE B - Grand-EST            18\n",
              "ZONE C - Abidjan_SUD          15\n",
              "ZONE A - Grand-EST             6\n",
              "ZONE D - Grand-SUD             6\n",
              "ZONE B - Abidjan_SUD           6\n",
              "ZONE B - Abidjan_Nord          3\n",
              "AGBANNEW                       3\n",
              "ZONE B - Abidjan-EST           3\n",
              "ZONE B - Grand-NORD            3\n",
              "ZONE B - Abidjan_CENTRE        2\n",
              "Name: ZONENAME, dtype: int64"
            ]
          },
          "metadata": {
            "tags": []
          },
          "execution_count": 36
        }
      ]
    },
    {
      "cell_type": "code",
      "metadata": {
        "colab": {
          "base_uri": "https://localhost:8080/"
        },
        "id": "scVou1pLJu3M",
        "outputId": "bff7fc34-a9c2-4ebe-9377-00e26f0f0152"
      },
      "source": [
        "cities = mtn['VILLES'].count()\n",
        "cities"
      ],
      "execution_count": 52,
      "outputs": [
        {
          "output_type": "execute_result",
          "data": {
            "text/plain": [
              "49702"
            ]
          },
          "metadata": {
            "tags": []
          },
          "execution_count": 52
        }
      ]
    },
    {
      "cell_type": "code",
      "metadata": {
        "colab": {
          "base_uri": "https://localhost:8080/",
          "height": 35
        },
        "id": "l-gOv6GEV4p5",
        "outputId": "4075b9a8-39e4-42f2-d8bd-14f9b0217ffc"
      },
      "source": [
        "# From our merged dataframe, let us look for the product that's most used\n",
        "\n",
        "mtn['PRODUCT'].max()"
      ],
      "execution_count": 66,
      "outputs": [
        {
          "output_type": "execute_result",
          "data": {
            "application/vnd.google.colaboratory.intrinsic+json": {
              "type": "string"
            },
            "text/plain": [
              "'sms'"
            ]
          },
          "metadata": {
            "tags": []
          },
          "execution_count": 66
        }
      ]
    },
    {
      "cell_type": "code",
      "metadata": {
        "colab": {
          "base_uri": "https://localhost:8080/"
        },
        "id": "Ri33O0bzc0we",
        "outputId": "e35d86a2-51b4-49c6-d0f3-7d443862c73a"
      },
      "source": [
        "# Let us look at the cities that have had the most traffic\n",
        "mtn[['VILLES','LOCALISATION','DECOUPZONE']].value_counts().head(10)"
      ],
      "execution_count": 57,
      "outputs": [
        {
          "output_type": "execute_result",
          "data": {
            "text/plain": [
              "VILLES        LOCALISATION  DECOUPZONE    \n",
              "YOPOUGON      ABIDJAN       Abidjan_OUEST     8432\n",
              "ABOBO         ABIDJAN       Abidjan_NORD      5967\n",
              "COCODY        ABIDJAN       Abidjan_EST       2878\n",
              "YAMOUSSOUKRO  INTERIEUR     Grand-SUD         2076\n",
              "TREICHVILLE   ABIDJAN       Abidjan_CENTRE    2026\n",
              "KOUMASSI      ABIDJAN       Abidjan_SUD       1756\n",
              "DALOA         INTERIEUR     Grand-OUEST       1747\n",
              "ADJAME        ABIDJAN       Abidjan_EST       1642\n",
              "ATTECOUBE     ABIDJAN       Abidjan_OUEST     1563\n",
              "PORT-BOUET    ABIDJAN       Abidjan_SUD       1423\n",
              "dtype: int64"
            ]
          },
          "metadata": {
            "tags": []
          },
          "execution_count": 57
        }
      ]
    }
  ]
}